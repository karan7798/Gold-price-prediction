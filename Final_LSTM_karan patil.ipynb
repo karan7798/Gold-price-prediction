{
  "cells": [
    {
      "cell_type": "markdown",
      "metadata": {
        "id": "nfAVgXLgrBrU"
      },
      "source": [
        " # **Time Series Forecasting **\n",
        "\n",
        "Time series analysis comprises methods for analyzing time series data in order to extract meaningful statistics and other characteristics of the data. Time series forecasting is the use of a model to predict future values based on previously observed values.\n",
        "\n",
        "Time series are widely used for non-stationary data, like economic, weather, stock price, and retail sales in this post. \n",
        "**I am going to  predict Gold price with time series forecasting using RNN method**\n",
        "\n",
        " Time Series Forecasting using CNN-LSTM\n"
      ]
    },
    {
      "cell_type": "code",
      "execution_count": null,
      "metadata": {
        "id": "nQOebmIKrBrf"
      },
      "outputs": [],
      "source": [
        "import numpy as np # linear algebra\n",
        "import pandas as pd # data processing, CSV file I/O (e.g. pd.read_csv)\n",
        "import matplotlib.pyplot as plt\n",
        "from keras.models import Sequential\n",
        "import matplotlib.patches as mpatches\n",
        "from keras.layers import Dense\n",
        "from keras.layers import Dropout\n",
        "from keras.layers import LSTM\n",
        "from sklearn.preprocessing import MinMaxScaler\n",
        "from sklearn.metrics import mean_squared_error\n",
        "\n",
        "\n",
        "import os\n",
        "\n",
        "\n",
        "# Any results you write to the current directory are saved as output."
      ]
    },
    {
      "cell_type": "code",
      "execution_count": null,
      "metadata": {
        "id": "bH9jSRplrBrh"
      },
      "outputs": [],
      "source": [
        "data = pd.read_csv('/content/Gold_data.csv')"
      ]
    },
    {
      "cell_type": "code",
      "execution_count": null,
      "metadata": {
        "colab": {
          "base_uri": "https://localhost:8080/"
        },
        "id": "8tK7rGAkrBri",
        "outputId": "eed5bc21-98fd-46a8-e99c-1f2178ff5997"
      },
      "outputs": [
        {
          "output_type": "execute_result",
          "data": {
            "text/plain": [
              "Index(['date', 'price'], dtype='object')"
            ]
          },
          "metadata": {},
          "execution_count": 3
        }
      ],
      "source": [
        "data.columns"
      ]
    },
    {
      "cell_type": "code",
      "execution_count": null,
      "metadata": {
        "colab": {
          "base_uri": "https://localhost:8080/",
          "height": 206
        },
        "id": "ROhPoakMrBrj",
        "outputId": "19ac6234-ec86-49ee-c472-98d2271fdfad"
      },
      "outputs": [
        {
          "output_type": "execute_result",
          "data": {
            "text/plain": [
              "         date    price\n",
              "0  2016-01-01  2252.60\n",
              "1  2016-01-02  2454.50\n",
              "2  2016-01-03  2708.10\n",
              "3  2016-01-04  2577.80\n",
              "4  2016-01-05  2597.75"
            ],
            "text/html": [
              "\n",
              "  <div id=\"df-12e1c604-2b50-4249-8716-fdd56c94eec7\">\n",
              "    <div class=\"colab-df-container\">\n",
              "      <div>\n",
              "<style scoped>\n",
              "    .dataframe tbody tr th:only-of-type {\n",
              "        vertical-align: middle;\n",
              "    }\n",
              "\n",
              "    .dataframe tbody tr th {\n",
              "        vertical-align: top;\n",
              "    }\n",
              "\n",
              "    .dataframe thead th {\n",
              "        text-align: right;\n",
              "    }\n",
              "</style>\n",
              "<table border=\"1\" class=\"dataframe\">\n",
              "  <thead>\n",
              "    <tr style=\"text-align: right;\">\n",
              "      <th></th>\n",
              "      <th>date</th>\n",
              "      <th>price</th>\n",
              "    </tr>\n",
              "  </thead>\n",
              "  <tbody>\n",
              "    <tr>\n",
              "      <th>0</th>\n",
              "      <td>2016-01-01</td>\n",
              "      <td>2252.60</td>\n",
              "    </tr>\n",
              "    <tr>\n",
              "      <th>1</th>\n",
              "      <td>2016-01-02</td>\n",
              "      <td>2454.50</td>\n",
              "    </tr>\n",
              "    <tr>\n",
              "      <th>2</th>\n",
              "      <td>2016-01-03</td>\n",
              "      <td>2708.10</td>\n",
              "    </tr>\n",
              "    <tr>\n",
              "      <th>3</th>\n",
              "      <td>2016-01-04</td>\n",
              "      <td>2577.80</td>\n",
              "    </tr>\n",
              "    <tr>\n",
              "      <th>4</th>\n",
              "      <td>2016-01-05</td>\n",
              "      <td>2597.75</td>\n",
              "    </tr>\n",
              "  </tbody>\n",
              "</table>\n",
              "</div>\n",
              "      <button class=\"colab-df-convert\" onclick=\"convertToInteractive('df-12e1c604-2b50-4249-8716-fdd56c94eec7')\"\n",
              "              title=\"Convert this dataframe to an interactive table.\"\n",
              "              style=\"display:none;\">\n",
              "        \n",
              "  <svg xmlns=\"http://www.w3.org/2000/svg\" height=\"24px\"viewBox=\"0 0 24 24\"\n",
              "       width=\"24px\">\n",
              "    <path d=\"M0 0h24v24H0V0z\" fill=\"none\"/>\n",
              "    <path d=\"M18.56 5.44l.94 2.06.94-2.06 2.06-.94-2.06-.94-.94-2.06-.94 2.06-2.06.94zm-11 1L8.5 8.5l.94-2.06 2.06-.94-2.06-.94L8.5 2.5l-.94 2.06-2.06.94zm10 10l.94 2.06.94-2.06 2.06-.94-2.06-.94-.94-2.06-.94 2.06-2.06.94z\"/><path d=\"M17.41 7.96l-1.37-1.37c-.4-.4-.92-.59-1.43-.59-.52 0-1.04.2-1.43.59L10.3 9.45l-7.72 7.72c-.78.78-.78 2.05 0 2.83L4 21.41c.39.39.9.59 1.41.59.51 0 1.02-.2 1.41-.59l7.78-7.78 2.81-2.81c.8-.78.8-2.07 0-2.86zM5.41 20L4 18.59l7.72-7.72 1.47 1.35L5.41 20z\"/>\n",
              "  </svg>\n",
              "      </button>\n",
              "      \n",
              "  <style>\n",
              "    .colab-df-container {\n",
              "      display:flex;\n",
              "      flex-wrap:wrap;\n",
              "      gap: 12px;\n",
              "    }\n",
              "\n",
              "    .colab-df-convert {\n",
              "      background-color: #E8F0FE;\n",
              "      border: none;\n",
              "      border-radius: 50%;\n",
              "      cursor: pointer;\n",
              "      display: none;\n",
              "      fill: #1967D2;\n",
              "      height: 32px;\n",
              "      padding: 0 0 0 0;\n",
              "      width: 32px;\n",
              "    }\n",
              "\n",
              "    .colab-df-convert:hover {\n",
              "      background-color: #E2EBFA;\n",
              "      box-shadow: 0px 1px 2px rgba(60, 64, 67, 0.3), 0px 1px 3px 1px rgba(60, 64, 67, 0.15);\n",
              "      fill: #174EA6;\n",
              "    }\n",
              "\n",
              "    [theme=dark] .colab-df-convert {\n",
              "      background-color: #3B4455;\n",
              "      fill: #D2E3FC;\n",
              "    }\n",
              "\n",
              "    [theme=dark] .colab-df-convert:hover {\n",
              "      background-color: #434B5C;\n",
              "      box-shadow: 0px 1px 3px 1px rgba(0, 0, 0, 0.15);\n",
              "      filter: drop-shadow(0px 1px 2px rgba(0, 0, 0, 0.3));\n",
              "      fill: #FFFFFF;\n",
              "    }\n",
              "  </style>\n",
              "\n",
              "      <script>\n",
              "        const buttonEl =\n",
              "          document.querySelector('#df-12e1c604-2b50-4249-8716-fdd56c94eec7 button.colab-df-convert');\n",
              "        buttonEl.style.display =\n",
              "          google.colab.kernel.accessAllowed ? 'block' : 'none';\n",
              "\n",
              "        async function convertToInteractive(key) {\n",
              "          const element = document.querySelector('#df-12e1c604-2b50-4249-8716-fdd56c94eec7');\n",
              "          const dataTable =\n",
              "            await google.colab.kernel.invokeFunction('convertToInteractive',\n",
              "                                                     [key], {});\n",
              "          if (!dataTable) return;\n",
              "\n",
              "          const docLinkHtml = 'Like what you see? Visit the ' +\n",
              "            '<a target=\"_blank\" href=https://colab.research.google.com/notebooks/data_table.ipynb>data table notebook</a>'\n",
              "            + ' to learn more about interactive tables.';\n",
              "          element.innerHTML = '';\n",
              "          dataTable['output_type'] = 'display_data';\n",
              "          await google.colab.output.renderOutput(dataTable, element);\n",
              "          const docLink = document.createElement('div');\n",
              "          docLink.innerHTML = docLinkHtml;\n",
              "          element.appendChild(docLink);\n",
              "        }\n",
              "      </script>\n",
              "    </div>\n",
              "  </div>\n",
              "  "
            ]
          },
          "metadata": {},
          "execution_count": 4
        }
      ],
      "source": [
        "data.head()"
      ]
    },
    {
      "cell_type": "code",
      "execution_count": null,
      "metadata": {
        "colab": {
          "base_uri": "https://localhost:8080/",
          "height": 206
        },
        "id": "bycIexH9w-N1",
        "outputId": "30625c29-033c-430c-f8b2-ac60f6d56619"
      },
      "outputs": [
        {
          "output_type": "execute_result",
          "data": {
            "text/plain": [
              "            date   price\n",
              "2177  2021-12-17  4394.4\n",
              "2178  2021-12-18  4389.5\n",
              "2179  2021-12-19  4389.5\n",
              "2180  2021-12-20  4354.1\n",
              "2181  2021-12-21  4346.5"
            ],
            "text/html": [
              "\n",
              "  <div id=\"df-910e7305-8476-4aad-b9ca-35c03801212f\">\n",
              "    <div class=\"colab-df-container\">\n",
              "      <div>\n",
              "<style scoped>\n",
              "    .dataframe tbody tr th:only-of-type {\n",
              "        vertical-align: middle;\n",
              "    }\n",
              "\n",
              "    .dataframe tbody tr th {\n",
              "        vertical-align: top;\n",
              "    }\n",
              "\n",
              "    .dataframe thead th {\n",
              "        text-align: right;\n",
              "    }\n",
              "</style>\n",
              "<table border=\"1\" class=\"dataframe\">\n",
              "  <thead>\n",
              "    <tr style=\"text-align: right;\">\n",
              "      <th></th>\n",
              "      <th>date</th>\n",
              "      <th>price</th>\n",
              "    </tr>\n",
              "  </thead>\n",
              "  <tbody>\n",
              "    <tr>\n",
              "      <th>2177</th>\n",
              "      <td>2021-12-17</td>\n",
              "      <td>4394.4</td>\n",
              "    </tr>\n",
              "    <tr>\n",
              "      <th>2178</th>\n",
              "      <td>2021-12-18</td>\n",
              "      <td>4389.5</td>\n",
              "    </tr>\n",
              "    <tr>\n",
              "      <th>2179</th>\n",
              "      <td>2021-12-19</td>\n",
              "      <td>4389.5</td>\n",
              "    </tr>\n",
              "    <tr>\n",
              "      <th>2180</th>\n",
              "      <td>2021-12-20</td>\n",
              "      <td>4354.1</td>\n",
              "    </tr>\n",
              "    <tr>\n",
              "      <th>2181</th>\n",
              "      <td>2021-12-21</td>\n",
              "      <td>4346.5</td>\n",
              "    </tr>\n",
              "  </tbody>\n",
              "</table>\n",
              "</div>\n",
              "      <button class=\"colab-df-convert\" onclick=\"convertToInteractive('df-910e7305-8476-4aad-b9ca-35c03801212f')\"\n",
              "              title=\"Convert this dataframe to an interactive table.\"\n",
              "              style=\"display:none;\">\n",
              "        \n",
              "  <svg xmlns=\"http://www.w3.org/2000/svg\" height=\"24px\"viewBox=\"0 0 24 24\"\n",
              "       width=\"24px\">\n",
              "    <path d=\"M0 0h24v24H0V0z\" fill=\"none\"/>\n",
              "    <path d=\"M18.56 5.44l.94 2.06.94-2.06 2.06-.94-2.06-.94-.94-2.06-.94 2.06-2.06.94zm-11 1L8.5 8.5l.94-2.06 2.06-.94-2.06-.94L8.5 2.5l-.94 2.06-2.06.94zm10 10l.94 2.06.94-2.06 2.06-.94-2.06-.94-.94-2.06-.94 2.06-2.06.94z\"/><path d=\"M17.41 7.96l-1.37-1.37c-.4-.4-.92-.59-1.43-.59-.52 0-1.04.2-1.43.59L10.3 9.45l-7.72 7.72c-.78.78-.78 2.05 0 2.83L4 21.41c.39.39.9.59 1.41.59.51 0 1.02-.2 1.41-.59l7.78-7.78 2.81-2.81c.8-.78.8-2.07 0-2.86zM5.41 20L4 18.59l7.72-7.72 1.47 1.35L5.41 20z\"/>\n",
              "  </svg>\n",
              "      </button>\n",
              "      \n",
              "  <style>\n",
              "    .colab-df-container {\n",
              "      display:flex;\n",
              "      flex-wrap:wrap;\n",
              "      gap: 12px;\n",
              "    }\n",
              "\n",
              "    .colab-df-convert {\n",
              "      background-color: #E8F0FE;\n",
              "      border: none;\n",
              "      border-radius: 50%;\n",
              "      cursor: pointer;\n",
              "      display: none;\n",
              "      fill: #1967D2;\n",
              "      height: 32px;\n",
              "      padding: 0 0 0 0;\n",
              "      width: 32px;\n",
              "    }\n",
              "\n",
              "    .colab-df-convert:hover {\n",
              "      background-color: #E2EBFA;\n",
              "      box-shadow: 0px 1px 2px rgba(60, 64, 67, 0.3), 0px 1px 3px 1px rgba(60, 64, 67, 0.15);\n",
              "      fill: #174EA6;\n",
              "    }\n",
              "\n",
              "    [theme=dark] .colab-df-convert {\n",
              "      background-color: #3B4455;\n",
              "      fill: #D2E3FC;\n",
              "    }\n",
              "\n",
              "    [theme=dark] .colab-df-convert:hover {\n",
              "      background-color: #434B5C;\n",
              "      box-shadow: 0px 1px 3px 1px rgba(0, 0, 0, 0.15);\n",
              "      filter: drop-shadow(0px 1px 2px rgba(0, 0, 0, 0.3));\n",
              "      fill: #FFFFFF;\n",
              "    }\n",
              "  </style>\n",
              "\n",
              "      <script>\n",
              "        const buttonEl =\n",
              "          document.querySelector('#df-910e7305-8476-4aad-b9ca-35c03801212f button.colab-df-convert');\n",
              "        buttonEl.style.display =\n",
              "          google.colab.kernel.accessAllowed ? 'block' : 'none';\n",
              "\n",
              "        async function convertToInteractive(key) {\n",
              "          const element = document.querySelector('#df-910e7305-8476-4aad-b9ca-35c03801212f');\n",
              "          const dataTable =\n",
              "            await google.colab.kernel.invokeFunction('convertToInteractive',\n",
              "                                                     [key], {});\n",
              "          if (!dataTable) return;\n",
              "\n",
              "          const docLinkHtml = 'Like what you see? Visit the ' +\n",
              "            '<a target=\"_blank\" href=https://colab.research.google.com/notebooks/data_table.ipynb>data table notebook</a>'\n",
              "            + ' to learn more about interactive tables.';\n",
              "          element.innerHTML = '';\n",
              "          dataTable['output_type'] = 'display_data';\n",
              "          await google.colab.output.renderOutput(dataTable, element);\n",
              "          const docLink = document.createElement('div');\n",
              "          docLink.innerHTML = docLinkHtml;\n",
              "          element.appendChild(docLink);\n",
              "        }\n",
              "      </script>\n",
              "    </div>\n",
              "  </div>\n",
              "  "
            ]
          },
          "metadata": {},
          "execution_count": 5
        }
      ],
      "source": [
        "data.tail()"
      ]
    },
    {
      "cell_type": "code",
      "execution_count": null,
      "metadata": {
        "id": "99kBPUlLrBrj"
      },
      "outputs": [],
      "source": [
        "data['date'] = pd.to_datetime(data['date'])\n",
        "data.set_index('date', inplace= True)\n",
        "data =data.resample('D').mean()"
      ]
    },
    {
      "cell_type": "code",
      "execution_count": null,
      "metadata": {
        "id": "vgc4N734rBrl"
      },
      "outputs": [],
      "source": [
        "data = data[['price' ]]"
      ]
    },
    {
      "cell_type": "code",
      "execution_count": null,
      "metadata": {
        "colab": {
          "base_uri": "https://localhost:8080/"
        },
        "id": "rsiHtKLQrBrm",
        "outputId": "bbe0e33c-efc0-4702-d57a-1907b18a380d"
      },
      "outputs": [
        {
          "output_type": "stream",
          "name": "stdout",
          "text": [
            "<class 'pandas.core.frame.DataFrame'>\n",
            "DatetimeIndex: 2182 entries, 2016-01-01 to 2021-12-21\n",
            "Freq: D\n",
            "Data columns (total 1 columns):\n",
            " #   Column  Non-Null Count  Dtype  \n",
            "---  ------  --------------  -----  \n",
            " 0   price   2182 non-null   float64\n",
            "dtypes: float64(1)\n",
            "memory usage: 34.1 KB\n"
          ]
        }
      ],
      "source": [
        "data.info()"
      ]
    },
    {
      "cell_type": "code",
      "execution_count": null,
      "metadata": {
        "id": "qOVRdlRLrBro"
      },
      "outputs": [],
      "source": [
        "from scipy.interpolate import interp1d\n"
      ]
    },
    {
      "cell_type": "code",
      "execution_count": null,
      "metadata": {
        "id": "sfLyeH59rBrp"
      },
      "outputs": [],
      "source": [
        "data['price'] = data['price'].interpolate()# we will fill the null row"
      ]
    },
    {
      "cell_type": "code",
      "execution_count": null,
      "metadata": {
        "colab": {
          "base_uri": "https://localhost:8080/"
        },
        "id": "4eLfyTGjrBrq",
        "outputId": "21a1321d-36a7-4579-8634-4614f0ee463b"
      },
      "outputs": [
        {
          "output_type": "stream",
          "name": "stdout",
          "text": [
            "<class 'pandas.core.frame.DataFrame'>\n",
            "DatetimeIndex: 2182 entries, 2016-01-01 to 2021-12-21\n",
            "Freq: D\n",
            "Data columns (total 1 columns):\n",
            " #   Column  Non-Null Count  Dtype  \n",
            "---  ------  --------------  -----  \n",
            " 0   price   2182 non-null   float64\n",
            "dtypes: float64(1)\n",
            "memory usage: 34.1 KB\n"
          ]
        }
      ],
      "source": [
        "data.info()"
      ]
    },
    {
      "cell_type": "code",
      "execution_count": null,
      "metadata": {
        "colab": {
          "base_uri": "https://localhost:8080/",
          "height": 237
        },
        "id": "C511qzzKrBrq",
        "outputId": "c3870b3d-db09-46b2-f06e-d6ec8906c663"
      },
      "outputs": [
        {
          "output_type": "execute_result",
          "data": {
            "text/plain": [
              "              price\n",
              "date               \n",
              "2016-01-01  2252.60\n",
              "2016-01-02  2454.50\n",
              "2016-01-03  2708.10\n",
              "2016-01-04  2577.80\n",
              "2016-01-05  2597.75"
            ],
            "text/html": [
              "\n",
              "  <div id=\"df-0098d9ef-5be3-42b3-b97b-733085142f8c\">\n",
              "    <div class=\"colab-df-container\">\n",
              "      <div>\n",
              "<style scoped>\n",
              "    .dataframe tbody tr th:only-of-type {\n",
              "        vertical-align: middle;\n",
              "    }\n",
              "\n",
              "    .dataframe tbody tr th {\n",
              "        vertical-align: top;\n",
              "    }\n",
              "\n",
              "    .dataframe thead th {\n",
              "        text-align: right;\n",
              "    }\n",
              "</style>\n",
              "<table border=\"1\" class=\"dataframe\">\n",
              "  <thead>\n",
              "    <tr style=\"text-align: right;\">\n",
              "      <th></th>\n",
              "      <th>price</th>\n",
              "    </tr>\n",
              "    <tr>\n",
              "      <th>date</th>\n",
              "      <th></th>\n",
              "    </tr>\n",
              "  </thead>\n",
              "  <tbody>\n",
              "    <tr>\n",
              "      <th>2016-01-01</th>\n",
              "      <td>2252.60</td>\n",
              "    </tr>\n",
              "    <tr>\n",
              "      <th>2016-01-02</th>\n",
              "      <td>2454.50</td>\n",
              "    </tr>\n",
              "    <tr>\n",
              "      <th>2016-01-03</th>\n",
              "      <td>2708.10</td>\n",
              "    </tr>\n",
              "    <tr>\n",
              "      <th>2016-01-04</th>\n",
              "      <td>2577.80</td>\n",
              "    </tr>\n",
              "    <tr>\n",
              "      <th>2016-01-05</th>\n",
              "      <td>2597.75</td>\n",
              "    </tr>\n",
              "  </tbody>\n",
              "</table>\n",
              "</div>\n",
              "      <button class=\"colab-df-convert\" onclick=\"convertToInteractive('df-0098d9ef-5be3-42b3-b97b-733085142f8c')\"\n",
              "              title=\"Convert this dataframe to an interactive table.\"\n",
              "              style=\"display:none;\">\n",
              "        \n",
              "  <svg xmlns=\"http://www.w3.org/2000/svg\" height=\"24px\"viewBox=\"0 0 24 24\"\n",
              "       width=\"24px\">\n",
              "    <path d=\"M0 0h24v24H0V0z\" fill=\"none\"/>\n",
              "    <path d=\"M18.56 5.44l.94 2.06.94-2.06 2.06-.94-2.06-.94-.94-2.06-.94 2.06-2.06.94zm-11 1L8.5 8.5l.94-2.06 2.06-.94-2.06-.94L8.5 2.5l-.94 2.06-2.06.94zm10 10l.94 2.06.94-2.06 2.06-.94-2.06-.94-.94-2.06-.94 2.06-2.06.94z\"/><path d=\"M17.41 7.96l-1.37-1.37c-.4-.4-.92-.59-1.43-.59-.52 0-1.04.2-1.43.59L10.3 9.45l-7.72 7.72c-.78.78-.78 2.05 0 2.83L4 21.41c.39.39.9.59 1.41.59.51 0 1.02-.2 1.41-.59l7.78-7.78 2.81-2.81c.8-.78.8-2.07 0-2.86zM5.41 20L4 18.59l7.72-7.72 1.47 1.35L5.41 20z\"/>\n",
              "  </svg>\n",
              "      </button>\n",
              "      \n",
              "  <style>\n",
              "    .colab-df-container {\n",
              "      display:flex;\n",
              "      flex-wrap:wrap;\n",
              "      gap: 12px;\n",
              "    }\n",
              "\n",
              "    .colab-df-convert {\n",
              "      background-color: #E8F0FE;\n",
              "      border: none;\n",
              "      border-radius: 50%;\n",
              "      cursor: pointer;\n",
              "      display: none;\n",
              "      fill: #1967D2;\n",
              "      height: 32px;\n",
              "      padding: 0 0 0 0;\n",
              "      width: 32px;\n",
              "    }\n",
              "\n",
              "    .colab-df-convert:hover {\n",
              "      background-color: #E2EBFA;\n",
              "      box-shadow: 0px 1px 2px rgba(60, 64, 67, 0.3), 0px 1px 3px 1px rgba(60, 64, 67, 0.15);\n",
              "      fill: #174EA6;\n",
              "    }\n",
              "\n",
              "    [theme=dark] .colab-df-convert {\n",
              "      background-color: #3B4455;\n",
              "      fill: #D2E3FC;\n",
              "    }\n",
              "\n",
              "    [theme=dark] .colab-df-convert:hover {\n",
              "      background-color: #434B5C;\n",
              "      box-shadow: 0px 1px 3px 1px rgba(0, 0, 0, 0.15);\n",
              "      filter: drop-shadow(0px 1px 2px rgba(0, 0, 0, 0.3));\n",
              "      fill: #FFFFFF;\n",
              "    }\n",
              "  </style>\n",
              "\n",
              "      <script>\n",
              "        const buttonEl =\n",
              "          document.querySelector('#df-0098d9ef-5be3-42b3-b97b-733085142f8c button.colab-df-convert');\n",
              "        buttonEl.style.display =\n",
              "          google.colab.kernel.accessAllowed ? 'block' : 'none';\n",
              "\n",
              "        async function convertToInteractive(key) {\n",
              "          const element = document.querySelector('#df-0098d9ef-5be3-42b3-b97b-733085142f8c');\n",
              "          const dataTable =\n",
              "            await google.colab.kernel.invokeFunction('convertToInteractive',\n",
              "                                                     [key], {});\n",
              "          if (!dataTable) return;\n",
              "\n",
              "          const docLinkHtml = 'Like what you see? Visit the ' +\n",
              "            '<a target=\"_blank\" href=https://colab.research.google.com/notebooks/data_table.ipynb>data table notebook</a>'\n",
              "            + ' to learn more about interactive tables.';\n",
              "          element.innerHTML = '';\n",
              "          dataTable['output_type'] = 'display_data';\n",
              "          await google.colab.output.renderOutput(dataTable, element);\n",
              "          const docLink = document.createElement('div');\n",
              "          docLink.innerHTML = docLinkHtml;\n",
              "          element.appendChild(docLink);\n",
              "        }\n",
              "      </script>\n",
              "    </div>\n",
              "  </div>\n",
              "  "
            ]
          },
          "metadata": {},
          "execution_count": 12
        }
      ],
      "source": [
        "data.head()"
      ]
    },
    {
      "cell_type": "code",
      "execution_count": null,
      "metadata": {
        "colab": {
          "base_uri": "https://localhost:8080/"
        },
        "id": "rQiqjVHe9yuN",
        "outputId": "bafefd14-410c-412a-e830-72cca8d63d78"
      },
      "outputs": [
        {
          "output_type": "execute_result",
          "data": {
            "text/plain": [
              "2182"
            ]
          },
          "metadata": {},
          "execution_count": 13
        }
      ],
      "source": [
        "len(data)"
      ]
    },
    {
      "cell_type": "code",
      "execution_count": null,
      "metadata": {
        "id": "nNRaqAwdrBrr"
      },
      "outputs": [],
      "source": [
        "df = data.copy()"
      ]
    },
    {
      "cell_type": "code",
      "execution_count": null,
      "metadata": {
        "colab": {
          "base_uri": "https://localhost:8080/",
          "height": 479
        },
        "id": "b3FYS6E_rBrs",
        "outputId": "da43f6c6-e2e5-4436-d67c-480c58437283"
      },
      "outputs": [
        {
          "output_type": "display_data",
          "data": {
            "text/plain": [
              "<Figure size 1440x576 with 1 Axes>"
            ],
            "image/png": "[encoded data removed]"
          },
          "metadata": {
            "needs_background": "light"
          }
        }
      ],
      "source": [
        "plt.figure(figsize=(20,8))\n",
        "plt.plot(data)\n",
        "plt.title('Time Series')\n",
        "plt.xlabel('Date')\n",
        "plt.ylabel('temperature')\n",
        "plt.show()"
      ]
    },
    {
      "cell_type": "markdown",
      "metadata": {
        "id": "UfdHEe6vrBrt"
      },
      "source": [
        "# Time Series Forecast using LSTM\n",
        "\n",
        "Long Short Term Memory networks – usually just called “LSTMs” – are a special kind of RNN, capable of learning long-term dependencies. They were introduced by Hochreiter & Schmidhuber (1997), and were refined and popularized by many people in following work.1 They work tremendously well on a large variety of problems, and are now widely used.\n",
        "\n",
        "LSTMs are explicitly designed to avoid the long-term dependency problem. Remembering information for long periods of time is practically their default behavior, not something they struggle to learn!\n",
        "\n",
        "All recurrent neural networks have the form of a chain of repeating modules of neural network. In standard RNNs, this repeating module will have a very simple structure, such as a single tanh layer.\n"
      ]
    },
    {
      "cell_type": "code",
      "execution_count": null,
      "metadata": {
        "id": "NXtLVih5rBru"
      },
      "outputs": [],
      "source": [
        "data=data.values\n",
        "data = data.astype('float32')"
      ]
    },
    {
      "cell_type": "code",
      "execution_count": null,
      "metadata": {
        "id": "Jw0fEtTkrBru"
      },
      "outputs": [],
      "source": [
        "scaler= MinMaxScaler(feature_range=(-1,1))\n",
        "sc = scaler.fit_transform(data)"
      ]
    },
    {
      "cell_type": "code",
      "execution_count": null,
      "metadata": {
        "colab": {
          "base_uri": "https://localhost:8080/"
        },
        "id": "RS150PTArBrv",
        "outputId": "4273a5f8-73aa-491e-ef29-0f881705e8f4"
      },
      "outputs": [
        {
          "output_type": "execute_result",
          "data": {
            "text/plain": [
              "array([[-1.        ],\n",
              "       [-0.8511995 ],\n",
              "       [-0.66429603],\n",
              "       ...,\n",
              "       [ 0.57489777],\n",
              "       [ 0.5488081 ],\n",
              "       [ 0.5432067 ]], dtype=float32)"
            ]
          },
          "metadata": {},
          "execution_count": 18
        }
      ],
      "source": [
        "sc"
      ]
    },
    {
      "cell_type": "code",
      "execution_count": null,
      "metadata": {
        "colab": {
          "base_uri": "https://localhost:8080/"
        },
        "id": "dwevLDWoCeky",
        "outputId": "dfe73357-eb22-439a-cd53-55614224da7e"
      },
      "outputs": [
        {
          "output_type": "execute_result",
          "data": {
            "text/plain": [
              "2182"
            ]
          },
          "metadata": {},
          "execution_count": 19
        }
      ],
      "source": [
        "len(df)"
      ]
    },
    {
      "cell_type": "code",
      "execution_count": null,
      "metadata": {
        "id": "Dao1ot4hrBrw"
      },
      "outputs": [],
      "source": [
        "timestep = 30\n",
        "\n",
        "X= []\n",
        "Y=[]\n",
        "\n",
        "\n",
        "for i in range(len(sc)- (timestep)):\n",
        "    X.append(sc[i:i+timestep])\n",
        "    Y.append(sc[i+timestep])\n",
        "\n",
        "\n",
        "X=np.asanyarray(X)\n",
        "Y=np.asanyarray(Y)\n",
        "\n",
        "\n",
        "k = 2000\n",
        "Xtrain = X[:k,:,:]\n",
        "Xtest = X[k:,:,:]    \n",
        "Ytrain = Y[:k]    \n",
        "Ytest= Y[k:]   "
      ]
    },
    {
      "cell_type": "code",
      "execution_count": null,
      "metadata": {
        "colab": {
          "base_uri": "https://localhost:8080/"
        },
        "id": "TpTUXJc1rBrw",
        "outputId": "fad605b8-b6ab-423b-c2b9-aa705ea9fdc4"
      },
      "outputs": [
        {
          "output_type": "stream",
          "name": "stdout",
          "text": [
            "(2000, 30, 1)\n",
            "(152, 30, 1)\n"
          ]
        }
      ],
      "source": [
        "print(Xtrain.shape)\n",
        "print(Xtest.shape)"
      ]
    },
    {
      "cell_type": "code",
      "execution_count": null,
      "metadata": {
        "colab": {
          "base_uri": "https://localhost:8080/"
        },
        "id": "Qm-rp28uIKHM",
        "outputId": "e598301d-6bbd-4a2b-c5c0-f5b920a7bbad"
      },
      "outputs": [
        {
          "output_type": "execute_result",
          "data": {
            "text/plain": [
              "array([[[-1.        ],\n",
              "        [-0.8511995 ],\n",
              "        [-0.66429603],\n",
              "        ...,\n",
              "        [-0.8683717 ],\n",
              "        [-0.8691087 ],\n",
              "        [-0.86347055]],\n",
              "\n",
              "       [[-0.8511995 ],\n",
              "        [-0.66429603],\n",
              "        [-0.7603272 ],\n",
              "        ...,\n",
              "        [-0.8691087 ],\n",
              "        [-0.86347055],\n",
              "        [-0.85783255]],\n",
              "\n",
              "       [[-0.66429603],\n",
              "        [-0.7603272 ],\n",
              "        [-0.7456242 ],\n",
              "        ...,\n",
              "        [-0.86347055],\n",
              "        [-0.85783255],\n",
              "        [-0.85219455]],\n",
              "\n",
              "       ...,\n",
              "\n",
              "       [[ 0.4350152 ],\n",
              "        [ 0.46707463],\n",
              "        [ 0.45933628],\n",
              "        ...,\n",
              "        [ 0.5393009 ],\n",
              "        [ 0.5393009 ],\n",
              "        [ 0.55345106]],\n",
              "\n",
              "       [[ 0.46707463],\n",
              "        [ 0.45933628],\n",
              "        [ 0.45904112],\n",
              "        ...,\n",
              "        [ 0.5393009 ],\n",
              "        [ 0.55345106],\n",
              "        [ 0.53259397]],\n",
              "\n",
              "       [[ 0.45933628],\n",
              "        [ 0.45904112],\n",
              "        [ 0.45425057],\n",
              "        ...,\n",
              "        [ 0.55345106],\n",
              "        [ 0.53259397],\n",
              "        [ 0.5167484 ]]], dtype=float32)"
            ]
          },
          "metadata": {},
          "execution_count": 22
        }
      ],
      "source": [
        "Xtrain"
      ]
    },
    {
      "cell_type": "code",
      "execution_count": null,
      "metadata": {
        "colab": {
          "base_uri": "https://localhost:8080/"
        },
        "id": "vTNegylIISqy",
        "outputId": "31ba8634-20b3-496b-90f1-ebf7f209d92f"
      },
      "outputs": [
        {
          "output_type": "execute_result",
          "data": {
            "text/plain": [
              "array([[-0.85783255],\n",
              "       [-0.85219455],\n",
              "       [-0.8465564 ],\n",
              "       ...,\n",
              "       [ 0.53259397],\n",
              "       [ 0.5167484 ],\n",
              "       [ 0.5229392 ]], dtype=float32)"
            ]
          },
          "metadata": {},
          "execution_count": 23
        }
      ],
      "source": [
        "Ytrain"
      ]
    },
    {
      "cell_type": "code",
      "execution_count": null,
      "metadata": {
        "colab": {
          "base_uri": "https://localhost:8080/"
        },
        "id": "9Rek1TkrICRQ",
        "outputId": "b323bb44-9f28-4d59-899d-fa8d6117972d"
      },
      "outputs": [
        {
          "output_type": "stream",
          "name": "stdout",
          "text": [
            "(2000, 1)\n",
            "(152, 1)\n"
          ]
        }
      ],
      "source": [
        "print(Ytrain.shape)\n",
        "print(Ytest.shape)"
      ]
    },
    {
      "cell_type": "markdown",
      "metadata": {
        "id": "950_zznirBry"
      },
      "source": [
        " # LSTM Model"
      ]
    },
    {
      "cell_type": "code",
      "source": [],
      "metadata": {
        "id": "s4k8qkG-LWMW"
      },
      "execution_count": null,
      "outputs": []
    },
    {
      "cell_type": "code",
      "execution_count": null,
      "metadata": {
        "id": "L6BKxPfBrBrz"
      },
      "outputs": [],
      "source": [
        "model = Sequential()\n",
        "\n",
        "model.add(LSTM(32,activation = 'relu', input_shape= (30,1), return_sequences=True))\n",
        "model.add(LSTM(32, activation='relu', return_sequences=True))\n",
        "model.add(LSTM(32, activation='sigmoid', return_sequences=False))\n",
        "model.add(Dense(1))\n",
        "model.compile(optimizer='adam', loss='mse')"
      ]
    },
    {
      "cell_type": "code",
      "execution_count": null,
      "metadata": {
        "colab": {
          "base_uri": "https://localhost:8080/"
        },
        "id": "gern8HxqrBrz",
        "outputId": "fa5b68f4-2230-4a08-e80b-2dbd296e55af"
      },
      "outputs": [
        {
          "output_type": "stream",
          "name": "stdout",
          "text": [
            "Model: \"sequential\"\n",
            "_________________________________________________________________\n",
            " Layer (type)                Output Shape              Param #   \n",
            "=================================================================\n",
            " lstm (LSTM)                 (None, 30, 32)            4352      \n",
            "                                                                 \n",
            " lstm_1 (LSTM)               (None, 30, 32)            8320      \n",
            "                                                                 \n",
            " lstm_2 (LSTM)               (None, 32)                8320      \n",
            "                                                                 \n",
            " dense (Dense)               (None, 1)                 33        \n",
            "                                                                 \n",
            "=================================================================\n",
            "Total params: 21,025\n",
            "Trainable params: 21,025\n",
            "Non-trainable params: 0\n",
            "_________________________________________________________________\n"
          ]
        }
      ],
      "source": [
        "model.summary()"
      ]
    },
    {
      "cell_type": "code",
      "execution_count": null,
      "metadata": {
        "colab": {
          "base_uri": "https://localhost:8080/"
        },
        "id": "_0BVVUeArBrz",
        "outputId": "f5a30c99-df58-40bc-f9b4-bbff71b846c6"
      },
      "outputs": [
        {
          "output_type": "stream",
          "name": "stdout",
          "text": [
            "Epoch 1/300\n",
            "63/63 [==============================] - 4s 21ms/step - loss: 0.1176\n",
            "Epoch 2/300\n",
            "63/63 [==============================] - 1s 21ms/step - loss: 0.0202\n",
            "Epoch 3/300\n",
            "63/63 [==============================] - 1s 22ms/step - loss: 0.0189\n",
            "Epoch 4/300\n",
            "63/63 [==============================] - 1s 21ms/step - loss: 0.0181\n",
            "Epoch 5/300\n",
            "63/63 [==============================] - 1s 21ms/step - loss: 0.0176\n",
            "Epoch 6/300\n",
            "63/63 [==============================] - 1s 21ms/step - loss: 0.0167\n",
            "Epoch 7/300\n",
            "63/63 [==============================] - 1s 21ms/step - loss: 0.0160\n",
            "Epoch 8/300\n",
            "63/63 [==============================] - 1s 21ms/step - loss: 0.0159\n",
            "Epoch 9/300\n",
            "63/63 [==============================] - 1s 21ms/step - loss: 0.0147\n",
            "Epoch 10/300\n",
            "63/63 [==============================] - 1s 21ms/step - loss: 0.0118\n",
            "Epoch 11/300\n",
            "63/63 [==============================] - 1s 22ms/step - loss: 0.0113\n",
            "Epoch 12/300\n",
            "63/63 [==============================] - 1s 22ms/step - loss: 0.0117\n",
            "Epoch 13/300\n",
            "63/63 [==============================] - 1s 21ms/step - loss: 0.0093\n",
            "Epoch 14/300\n",
            "63/63 [==============================] - 1s 21ms/step - loss: 0.0089\n",
            "Epoch 15/300\n",
            "63/63 [==============================] - 1s 21ms/step - loss: 0.0076\n",
            "Epoch 16/300\n",
            "63/63 [==============================] - 1s 21ms/step - loss: 0.0075\n",
            "Epoch 17/300\n",
            "63/63 [==============================] - 1s 21ms/step - loss: 0.0073\n",
            "Epoch 18/300\n",
            "63/63 [==============================] - 1s 21ms/step - loss: 0.0074\n",
            "Epoch 19/300\n",
            "63/63 [==============================] - 1s 21ms/step - loss: 0.0069\n",
            "Epoch 20/300\n",
            "63/63 [==============================] - 1s 21ms/step - loss: 0.0073\n",
            "Epoch 21/300\n",
            "63/63 [==============================] - 1s 20ms/step - loss: 0.0063\n",
            "Epoch 22/300\n",
            "63/63 [==============================] - 1s 20ms/step - loss: 0.0066\n",
            "Epoch 23/300\n",
            "63/63 [==============================] - 1s 21ms/step - loss: 0.0064\n",
            "Epoch 24/300\n",
            "63/63 [==============================] - 1s 21ms/step - loss: 0.0062\n",
            "Epoch 25/300\n",
            "63/63 [==============================] - 1s 21ms/step - loss: 0.0060\n",
            "Epoch 26/300\n",
            "63/63 [==============================] - 1s 21ms/step - loss: 0.0068\n",
            "Epoch 27/300\n",
            "63/63 [==============================] - 1s 20ms/step - loss: 0.0063\n",
            "Epoch 28/300\n",
            "63/63 [==============================] - 1s 20ms/step - loss: 0.0060\n",
            "Epoch 29/300\n",
            "63/63 [==============================] - 1s 21ms/step - loss: 0.0063\n",
            "Epoch 30/300\n",
            "63/63 [==============================] - 1s 22ms/step - loss: 0.0064\n",
            "Epoch 31/300\n",
            "63/63 [==============================] - 1s 21ms/step - loss: 0.0060\n",
            "Epoch 32/300\n",
            "63/63 [==============================] - 1s 21ms/step - loss: 0.0058\n",
            "Epoch 33/300\n",
            "63/63 [==============================] - 1s 20ms/step - loss: 0.0062\n",
            "Epoch 34/300\n",
            "63/63 [==============================] - 1s 21ms/step - loss: 0.0059\n",
            "Epoch 35/300\n",
            "63/63 [==============================] - 1s 21ms/step - loss: 0.0058\n",
            "Epoch 36/300\n",
            "63/63 [==============================] - 1s 21ms/step - loss: 0.0056\n",
            "Epoch 37/300\n",
            "63/63 [==============================] - 1s 21ms/step - loss: 0.0060\n",
            "Epoch 38/300\n",
            "63/63 [==============================] - 1s 22ms/step - loss: 0.0062\n",
            "Epoch 39/300\n",
            "63/63 [==============================] - 1s 21ms/step - loss: 0.0060\n",
            "Epoch 40/300\n",
            "63/63 [==============================] - 1s 22ms/step - loss: 0.0063\n",
            "Epoch 41/300\n",
            "63/63 [==============================] - 1s 21ms/step - loss: 0.0057\n",
            "Epoch 42/300\n",
            "63/63 [==============================] - 1s 21ms/step - loss: 0.0061\n",
            "Epoch 43/300\n",
            "63/63 [==============================] - 1s 22ms/step - loss: 0.0061\n",
            "Epoch 44/300\n",
            "63/63 [==============================] - 2s 30ms/step - loss: 0.0057\n",
            "Epoch 45/300\n",
            "63/63 [==============================] - 1s 20ms/step - loss: 0.0058\n",
            "Epoch 46/300\n",
            "63/63 [==============================] - 1s 21ms/step - loss: 0.0053\n",
            "Epoch 47/300\n",
            "63/63 [==============================] - 1s 21ms/step - loss: 0.0054\n",
            "Epoch 48/300\n",
            "63/63 [==============================] - 1s 20ms/step - loss: 0.0058\n",
            "Epoch 49/300\n",
            "63/63 [==============================] - 1s 21ms/step - loss: 0.0055\n",
            "Epoch 50/300\n",
            "63/63 [==============================] - 1s 21ms/step - loss: 0.0056\n",
            "Epoch 51/300\n",
            "63/63 [==============================] - 1s 21ms/step - loss: 0.0053\n",
            "Epoch 52/300\n",
            "63/63 [==============================] - 1s 21ms/step - loss: 0.0057\n",
            "Epoch 53/300\n",
            "63/63 [==============================] - 1s 21ms/step - loss: 0.0054\n",
            "Epoch 54/300\n",
            "63/63 [==============================] - 1s 21ms/step - loss: 0.0055\n",
            "Epoch 55/300\n",
            "63/63 [==============================] - 1s 21ms/step - loss: 0.0055\n",
            "Epoch 56/300\n",
            "63/63 [==============================] - 2s 25ms/step - loss: 0.0051\n",
            "Epoch 57/300\n",
            "63/63 [==============================] - 1s 22ms/step - loss: 0.0053\n",
            "Epoch 58/300\n",
            "63/63 [==============================] - 1s 22ms/step - loss: 0.0055\n",
            "Epoch 59/300\n",
            "63/63 [==============================] - 1s 21ms/step - loss: 0.0058\n",
            "Epoch 60/300\n",
            "63/63 [==============================] - 1s 22ms/step - loss: 0.0053\n",
            "Epoch 61/300\n",
            "63/63 [==============================] - 1s 21ms/step - loss: 0.0054\n",
            "Epoch 62/300\n",
            "63/63 [==============================] - 1s 22ms/step - loss: 0.0054\n",
            "Epoch 63/300\n",
            "63/63 [==============================] - 1s 21ms/step - loss: 0.0056\n",
            "Epoch 64/300\n",
            "63/63 [==============================] - 1s 21ms/step - loss: 0.0055\n",
            "Epoch 65/300\n",
            "63/63 [==============================] - 1s 22ms/step - loss: 0.0059\n",
            "Epoch 66/300\n",
            "63/63 [==============================] - 1s 21ms/step - loss: 0.0052\n",
            "Epoch 67/300\n",
            "63/63 [==============================] - 1s 21ms/step - loss: 0.0052\n",
            "Epoch 68/300\n",
            "63/63 [==============================] - 1s 24ms/step - loss: 0.0054\n",
            "Epoch 69/300\n",
            "63/63 [==============================] - 2s 29ms/step - loss: 0.0054\n",
            "Epoch 70/300\n",
            "63/63 [==============================] - 1s 21ms/step - loss: 0.0054\n",
            "Epoch 71/300\n",
            "63/63 [==============================] - 1s 22ms/step - loss: 0.0052\n",
            "Epoch 72/300\n",
            "63/63 [==============================] - 1s 21ms/step - loss: 0.0052\n",
            "Epoch 73/300\n",
            "63/63 [==============================] - 1s 21ms/step - loss: 0.0050\n",
            "Epoch 74/300\n",
            "63/63 [==============================] - 1s 22ms/step - loss: 0.0051\n",
            "Epoch 75/300\n",
            "63/63 [==============================] - 1s 22ms/step - loss: 0.0053\n",
            "Epoch 76/300\n",
            "63/63 [==============================] - 1s 21ms/step - loss: 0.0056\n",
            "Epoch 77/300\n",
            "63/63 [==============================] - 1s 22ms/step - loss: 0.0051\n",
            "Epoch 78/300\n",
            "63/63 [==============================] - 1s 21ms/step - loss: 0.0052\n",
            "Epoch 79/300\n",
            "63/63 [==============================] - 1s 22ms/step - loss: 0.0050\n",
            "Epoch 80/300\n",
            "63/63 [==============================] - 1s 21ms/step - loss: 0.0051\n",
            "Epoch 81/300\n",
            "63/63 [==============================] - 1s 21ms/step - loss: 0.0051\n",
            "Epoch 82/300\n",
            "63/63 [==============================] - 1s 22ms/step - loss: 0.0050\n",
            "Epoch 83/300\n",
            "63/63 [==============================] - 1s 21ms/step - loss: 0.0050\n",
            "Epoch 84/300\n",
            "63/63 [==============================] - 1s 21ms/step - loss: 0.0050\n",
            "Epoch 85/300\n",
            "63/63 [==============================] - 1s 21ms/step - loss: 0.0050\n",
            "Epoch 86/300\n",
            "63/63 [==============================] - 1s 21ms/step - loss: 0.0049\n",
            "Epoch 87/300\n",
            "63/63 [==============================] - 1s 21ms/step - loss: 0.0053\n",
            "Epoch 88/300\n",
            "63/63 [==============================] - 1s 21ms/step - loss: 0.0052\n",
            "Epoch 89/300\n",
            "63/63 [==============================] - 1s 21ms/step - loss: 0.0056\n",
            "Epoch 90/300\n",
            "63/63 [==============================] - 1s 22ms/step - loss: 0.0052\n",
            "Epoch 91/300\n",
            "63/63 [==============================] - 1s 22ms/step - loss: 0.0048\n",
            "Epoch 92/300\n",
            "63/63 [==============================] - 1s 21ms/step - loss: 0.0052\n",
            "Epoch 93/300\n",
            "63/63 [==============================] - 1s 21ms/step - loss: 0.0052\n",
            "Epoch 94/300\n",
            "63/63 [==============================] - 1s 21ms/step - loss: 0.0048\n",
            "Epoch 95/300\n",
            "63/63 [==============================] - 1s 21ms/step - loss: 0.0049\n",
            "Epoch 96/300\n",
            "63/63 [==============================] - 1s 21ms/step - loss: 0.0049\n",
            "Epoch 97/300\n",
            "63/63 [==============================] - 1s 21ms/step - loss: 0.0051\n",
            "Epoch 98/300\n",
            "63/63 [==============================] - 1s 21ms/step - loss: 0.0048\n",
            "Epoch 99/300\n",
            "63/63 [==============================] - 1s 22ms/step - loss: 0.0050\n",
            "Epoch 100/300\n",
            "63/63 [==============================] - 1s 21ms/step - loss: 0.0049\n",
            "Epoch 101/300\n",
            "63/63 [==============================] - 1s 21ms/step - loss: 0.0047\n",
            "Epoch 102/300\n",
            "63/63 [==============================] - 1s 21ms/step - loss: 0.0047\n",
            "Epoch 103/300\n",
            "63/63 [==============================] - 1s 21ms/step - loss: 0.0049\n",
            "Epoch 104/300\n",
            "63/63 [==============================] - 1s 21ms/step - loss: 0.0045\n",
            "Epoch 105/300\n",
            "63/63 [==============================] - 1s 22ms/step - loss: 0.0047\n",
            "Epoch 106/300\n",
            "63/63 [==============================] - 1s 21ms/step - loss: 0.0046\n",
            "Epoch 107/300\n",
            "63/63 [==============================] - 1s 22ms/step - loss: 0.0046\n",
            "Epoch 108/300\n",
            "63/63 [==============================] - 1s 21ms/step - loss: 0.0046\n",
            "Epoch 109/300\n",
            "63/63 [==============================] - 1s 21ms/step - loss: 0.0044\n",
            "Epoch 110/300\n",
            "63/63 [==============================] - 1s 22ms/step - loss: 0.0051\n",
            "Epoch 111/300\n",
            "63/63 [==============================] - 1s 21ms/step - loss: 0.0049\n",
            "Epoch 112/300\n",
            "63/63 [==============================] - 1s 20ms/step - loss: 0.0045\n",
            "Epoch 113/300\n",
            "63/63 [==============================] - 1s 22ms/step - loss: 0.0046\n",
            "Epoch 114/300\n",
            "63/63 [==============================] - 1s 21ms/step - loss: 0.0045\n",
            "Epoch 115/300\n",
            "63/63 [==============================] - 1s 21ms/step - loss: 0.0043\n",
            "Epoch 116/300\n",
            "63/63 [==============================] - 1s 21ms/step - loss: 0.0043\n",
            "Epoch 117/300\n",
            "63/63 [==============================] - 1s 22ms/step - loss: 0.0044\n",
            "Epoch 118/300\n",
            "63/63 [==============================] - 1s 21ms/step - loss: 0.0045\n",
            "Epoch 119/300\n",
            "63/63 [==============================] - 1s 21ms/step - loss: 0.0044\n",
            "Epoch 120/300\n",
            "63/63 [==============================] - 1s 21ms/step - loss: 0.0043\n",
            "Epoch 121/300\n",
            "63/63 [==============================] - 1s 20ms/step - loss: 0.0044\n",
            "Epoch 122/300\n",
            "63/63 [==============================] - 1s 20ms/step - loss: 0.0042\n",
            "Epoch 123/300\n",
            "63/63 [==============================] - 1s 22ms/step - loss: 0.0042\n",
            "Epoch 124/300\n",
            "63/63 [==============================] - 1s 21ms/step - loss: 0.0043\n",
            "Epoch 125/300\n",
            "63/63 [==============================] - 1s 20ms/step - loss: 0.0041\n",
            "Epoch 126/300\n",
            "63/63 [==============================] - 1s 21ms/step - loss: 0.0042\n",
            "Epoch 127/300\n",
            "63/63 [==============================] - 1s 22ms/step - loss: 0.0041\n",
            "Epoch 128/300\n",
            "63/63 [==============================] - 1s 21ms/step - loss: 0.0043\n",
            "Epoch 129/300\n",
            "63/63 [==============================] - 1s 21ms/step - loss: 0.0042\n",
            "Epoch 130/300\n",
            "63/63 [==============================] - 1s 21ms/step - loss: 0.0040\n",
            "Epoch 131/300\n",
            "63/63 [==============================] - 1s 21ms/step - loss: 0.0043\n",
            "Epoch 132/300\n",
            "63/63 [==============================] - 1s 21ms/step - loss: 0.0041\n",
            "Epoch 133/300\n",
            "63/63 [==============================] - 1s 22ms/step - loss: 0.0042\n",
            "Epoch 134/300\n",
            "63/63 [==============================] - 1s 21ms/step - loss: 0.0041\n",
            "Epoch 135/300\n",
            "63/63 [==============================] - 1s 21ms/step - loss: 0.0039\n",
            "Epoch 136/300\n",
            "63/63 [==============================] - 1s 21ms/step - loss: 0.0039\n",
            "Epoch 137/300\n",
            "63/63 [==============================] - 1s 22ms/step - loss: 0.0039\n",
            "Epoch 138/300\n",
            "63/63 [==============================] - 1s 21ms/step - loss: 0.0040\n",
            "Epoch 139/300\n",
            "63/63 [==============================] - 1s 21ms/step - loss: 0.0040\n",
            "Epoch 140/300\n",
            "63/63 [==============================] - 1s 21ms/step - loss: 0.0041\n",
            "Epoch 141/300\n",
            "63/63 [==============================] - 1s 21ms/step - loss: 0.0053\n",
            "Epoch 142/300\n",
            "63/63 [==============================] - 1s 21ms/step - loss: 0.0052\n",
            "Epoch 143/300\n",
            "63/63 [==============================] - 1s 21ms/step - loss: 0.0050\n",
            "Epoch 144/300\n",
            "63/63 [==============================] - 1s 21ms/step - loss: 0.0044\n",
            "Epoch 145/300\n",
            "63/63 [==============================] - 1s 22ms/step - loss: 0.0045\n",
            "Epoch 146/300\n",
            "63/63 [==============================] - 1s 21ms/step - loss: 0.0042\n",
            "Epoch 147/300\n",
            "63/63 [==============================] - 1s 22ms/step - loss: 0.0041\n",
            "Epoch 148/300\n",
            "63/63 [==============================] - 1s 21ms/step - loss: 0.0041\n",
            "Epoch 149/300\n",
            "63/63 [==============================] - 1s 22ms/step - loss: 0.0041\n",
            "Epoch 150/300\n",
            "63/63 [==============================] - 1s 21ms/step - loss: 0.0040\n",
            "Epoch 151/300\n",
            "63/63 [==============================] - 1s 21ms/step - loss: 0.0041\n",
            "Epoch 152/300\n",
            "63/63 [==============================] - 1s 22ms/step - loss: 0.0042\n",
            "Epoch 153/300\n",
            "63/63 [==============================] - 1s 21ms/step - loss: 0.0040\n",
            "Epoch 154/300\n",
            "63/63 [==============================] - 1s 21ms/step - loss: 0.0039\n",
            "Epoch 155/300\n",
            "63/63 [==============================] - 1s 21ms/step - loss: 0.0043\n",
            "Epoch 156/300\n",
            "63/63 [==============================] - 1s 21ms/step - loss: 0.0041\n",
            "Epoch 157/300\n",
            "63/63 [==============================] - 1s 22ms/step - loss: 0.0038\n",
            "Epoch 158/300\n",
            "63/63 [==============================] - 1s 22ms/step - loss: 0.0038\n",
            "Epoch 159/300\n",
            "63/63 [==============================] - 1s 22ms/step - loss: 0.0041\n",
            "Epoch 160/300\n",
            "63/63 [==============================] - 1s 21ms/step - loss: 0.0037\n",
            "Epoch 161/300\n",
            "63/63 [==============================] - 1s 22ms/step - loss: 0.0037\n",
            "Epoch 162/300\n",
            "63/63 [==============================] - 1s 21ms/step - loss: 0.0038\n",
            "Epoch 163/300\n",
            "63/63 [==============================] - 1s 21ms/step - loss: 0.0037\n",
            "Epoch 164/300\n",
            "63/63 [==============================] - 1s 21ms/step - loss: 0.0038\n",
            "Epoch 165/300\n",
            "63/63 [==============================] - 1s 21ms/step - loss: 0.0037\n",
            "Epoch 166/300\n",
            "63/63 [==============================] - 1s 22ms/step - loss: 0.0037\n",
            "Epoch 167/300\n",
            "63/63 [==============================] - 1s 21ms/step - loss: 0.0036\n",
            "Epoch 168/300\n",
            "63/63 [==============================] - 1s 21ms/step - loss: 0.0038\n",
            "Epoch 169/300\n",
            "63/63 [==============================] - 1s 21ms/step - loss: 0.0037\n",
            "Epoch 170/300\n",
            "63/63 [==============================] - 1s 20ms/step - loss: 0.0036\n",
            "Epoch 171/300\n",
            "63/63 [==============================] - 1s 22ms/step - loss: 0.0038\n",
            "Epoch 172/300\n",
            "63/63 [==============================] - 1s 21ms/step - loss: 0.0035\n",
            "Epoch 173/300\n",
            "63/63 [==============================] - 1s 22ms/step - loss: 0.0036\n",
            "Epoch 174/300\n",
            "63/63 [==============================] - 1s 21ms/step - loss: 0.0036\n",
            "Epoch 175/300\n",
            "63/63 [==============================] - 1s 21ms/step - loss: 0.0037\n",
            "Epoch 176/300\n",
            "63/63 [==============================] - 1s 21ms/step - loss: 0.0037\n",
            "Epoch 177/300\n",
            "63/63 [==============================] - 1s 20ms/step - loss: 0.0038\n",
            "Epoch 178/300\n",
            "63/63 [==============================] - 1s 21ms/step - loss: 0.0038\n",
            "Epoch 179/300\n",
            "63/63 [==============================] - 1s 21ms/step - loss: 0.0036\n",
            "Epoch 180/300\n",
            "63/63 [==============================] - 1s 21ms/step - loss: 0.0036\n",
            "Epoch 181/300\n",
            "63/63 [==============================] - 1s 21ms/step - loss: 0.0035\n",
            "Epoch 182/300\n",
            "63/63 [==============================] - 1s 22ms/step - loss: 0.0033\n",
            "Epoch 183/300\n",
            "63/63 [==============================] - 1s 21ms/step - loss: 0.0036\n",
            "Epoch 184/300\n",
            "63/63 [==============================] - 1s 21ms/step - loss: 0.0034\n",
            "Epoch 185/300\n",
            "63/63 [==============================] - 1s 22ms/step - loss: 0.0034\n",
            "Epoch 186/300\n",
            "63/63 [==============================] - 1s 22ms/step - loss: 0.0035\n",
            "Epoch 187/300\n",
            "63/63 [==============================] - 1s 21ms/step - loss: 0.0035\n",
            "Epoch 188/300\n",
            "63/63 [==============================] - 1s 21ms/step - loss: 0.0034\n",
            "Epoch 189/300\n",
            "63/63 [==============================] - 1s 21ms/step - loss: 0.0038\n",
            "Epoch 190/300\n",
            "63/63 [==============================] - 1s 21ms/step - loss: 0.0037\n",
            "Epoch 191/300\n",
            "63/63 [==============================] - 1s 22ms/step - loss: 0.0036\n",
            "Epoch 192/300\n",
            "63/63 [==============================] - 1s 21ms/step - loss: 0.0035\n",
            "Epoch 193/300\n",
            "63/63 [==============================] - 1s 21ms/step - loss: 0.0035\n",
            "Epoch 194/300\n",
            "63/63 [==============================] - 1s 22ms/step - loss: 0.0034\n",
            "Epoch 195/300\n",
            "63/63 [==============================] - 1s 21ms/step - loss: 0.0036\n",
            "Epoch 196/300\n",
            "63/63 [==============================] - 1s 21ms/step - loss: 0.0035\n",
            "Epoch 197/300\n",
            "63/63 [==============================] - 1s 22ms/step - loss: 0.0033\n",
            "Epoch 198/300\n",
            "63/63 [==============================] - 1s 21ms/step - loss: 0.0034\n",
            "Epoch 199/300\n",
            "63/63 [==============================] - 1s 22ms/step - loss: 0.0033\n",
            "Epoch 200/300\n",
            "63/63 [==============================] - 1s 21ms/step - loss: 0.0032\n",
            "Epoch 201/300\n",
            "63/63 [==============================] - 1s 21ms/step - loss: 0.0033\n",
            "Epoch 202/300\n",
            "63/63 [==============================] - 1s 21ms/step - loss: 0.0034\n",
            "Epoch 203/300\n",
            "63/63 [==============================] - 1s 21ms/step - loss: 0.0034\n",
            "Epoch 204/300\n",
            "63/63 [==============================] - 1s 21ms/step - loss: 0.0033\n",
            "Epoch 205/300\n",
            "63/63 [==============================] - 1s 22ms/step - loss: 0.0034\n",
            "Epoch 206/300\n",
            "63/63 [==============================] - 1s 22ms/step - loss: 0.0033\n",
            "Epoch 207/300\n",
            "63/63 [==============================] - 1s 21ms/step - loss: 0.0033\n",
            "Epoch 208/300\n",
            "63/63 [==============================] - 1s 21ms/step - loss: 0.0033\n",
            "Epoch 209/300\n",
            "63/63 [==============================] - 1s 21ms/step - loss: 0.0034\n",
            "Epoch 210/300\n",
            "63/63 [==============================] - 1s 21ms/step - loss: 0.0036\n",
            "Epoch 211/300\n",
            "63/63 [==============================] - 1s 21ms/step - loss: 0.0033\n",
            "Epoch 212/300\n",
            "63/63 [==============================] - 1s 22ms/step - loss: 0.0032\n",
            "Epoch 213/300\n",
            "63/63 [==============================] - 1s 21ms/step - loss: 0.0033\n",
            "Epoch 214/300\n",
            "63/63 [==============================] - 1s 21ms/step - loss: 0.0033\n",
            "Epoch 215/300\n",
            "63/63 [==============================] - 1s 22ms/step - loss: 0.0034\n",
            "Epoch 216/300\n",
            "63/63 [==============================] - 1s 21ms/step - loss: 0.0032\n",
            "Epoch 217/300\n",
            "63/63 [==============================] - 1s 21ms/step - loss: 0.0033\n",
            "Epoch 218/300\n",
            "63/63 [==============================] - 1s 22ms/step - loss: 0.0031\n",
            "Epoch 219/300\n",
            "63/63 [==============================] - 1s 22ms/step - loss: 0.0031\n",
            "Epoch 220/300\n",
            "63/63 [==============================] - 1s 21ms/step - loss: 0.0031\n",
            "Epoch 221/300\n",
            "63/63 [==============================] - 1s 22ms/step - loss: 0.0033\n",
            "Epoch 222/300\n",
            "63/63 [==============================] - 1s 21ms/step - loss: 0.0032\n",
            "Epoch 223/300\n",
            "63/63 [==============================] - 1s 22ms/step - loss: 0.0031\n",
            "Epoch 224/300\n",
            "63/63 [==============================] - 1s 21ms/step - loss: 0.0032\n",
            "Epoch 225/300\n",
            "63/63 [==============================] - 1s 21ms/step - loss: 0.0034\n",
            "Epoch 226/300\n",
            "63/63 [==============================] - 1s 21ms/step - loss: 0.0030\n",
            "Epoch 227/300\n",
            "63/63 [==============================] - 1s 22ms/step - loss: 0.0031\n",
            "Epoch 228/300\n",
            "63/63 [==============================] - 2s 25ms/step - loss: 0.0030\n",
            "Epoch 229/300\n",
            "63/63 [==============================] - 2s 27ms/step - loss: 0.0032\n",
            "Epoch 230/300\n",
            "63/63 [==============================] - 1s 22ms/step - loss: 0.0030\n",
            "Epoch 231/300\n",
            "63/63 [==============================] - 1s 22ms/step - loss: 0.0033\n",
            "Epoch 232/300\n",
            "63/63 [==============================] - 1s 22ms/step - loss: 0.0032\n",
            "Epoch 233/300\n",
            "63/63 [==============================] - 1s 22ms/step - loss: 0.0032\n",
            "Epoch 234/300\n",
            "63/63 [==============================] - 1s 21ms/step - loss: 0.0031\n",
            "Epoch 235/300\n",
            "63/63 [==============================] - 1s 22ms/step - loss: 0.0030\n",
            "Epoch 236/300\n",
            "63/63 [==============================] - 1s 22ms/step - loss: 0.0030\n",
            "Epoch 237/300\n",
            "63/63 [==============================] - 1s 21ms/step - loss: 0.0031\n",
            "Epoch 238/300\n",
            "63/63 [==============================] - 1s 22ms/step - loss: 0.0030\n",
            "Epoch 239/300\n",
            "63/63 [==============================] - 1s 22ms/step - loss: 0.0030\n",
            "Epoch 240/300\n",
            "63/63 [==============================] - 1s 22ms/step - loss: 0.0032\n",
            "Epoch 241/300\n",
            "63/63 [==============================] - 1s 22ms/step - loss: 0.0030\n",
            "Epoch 242/300\n",
            "63/63 [==============================] - 1s 22ms/step - loss: 0.0032\n",
            "Epoch 243/300\n",
            "63/63 [==============================] - 1s 22ms/step - loss: 0.0031\n",
            "Epoch 244/300\n",
            "63/63 [==============================] - 1s 22ms/step - loss: 0.0030\n",
            "Epoch 245/300\n",
            "63/63 [==============================] - 1s 22ms/step - loss: 0.0030\n",
            "Epoch 246/300\n",
            "63/63 [==============================] - 1s 22ms/step - loss: 0.0029\n",
            "Epoch 247/300\n",
            "63/63 [==============================] - 1s 22ms/step - loss: 0.0029\n",
            "Epoch 248/300\n",
            "63/63 [==============================] - 1s 21ms/step - loss: 0.0030\n",
            "Epoch 249/300\n",
            "63/63 [==============================] - 1s 22ms/step - loss: 0.0029\n",
            "Epoch 250/300\n",
            "63/63 [==============================] - 1s 22ms/step - loss: 0.0031\n",
            "Epoch 251/300\n",
            "63/63 [==============================] - 1s 22ms/step - loss: 0.0031\n",
            "Epoch 252/300\n",
            "63/63 [==============================] - 2s 25ms/step - loss: 0.0029\n",
            "Epoch 253/300\n",
            "63/63 [==============================] - 2s 26ms/step - loss: 0.0031\n",
            "Epoch 254/300\n",
            "63/63 [==============================] - 1s 21ms/step - loss: 0.0029\n",
            "Epoch 255/300\n",
            "63/63 [==============================] - 1s 21ms/step - loss: 0.0029\n",
            "Epoch 256/300\n",
            "63/63 [==============================] - 1s 22ms/step - loss: 0.0030\n",
            "Epoch 257/300\n",
            "63/63 [==============================] - 1s 22ms/step - loss: 0.0030\n",
            "Epoch 258/300\n",
            "63/63 [==============================] - 1s 21ms/step - loss: 0.0029\n",
            "Epoch 259/300\n",
            "63/63 [==============================] - 1s 22ms/step - loss: 0.0028\n",
            "Epoch 260/300\n",
            "63/63 [==============================] - 1s 22ms/step - loss: 0.0029\n",
            "Epoch 261/300\n",
            "63/63 [==============================] - 1s 22ms/step - loss: 0.0029\n",
            "Epoch 262/300\n",
            "63/63 [==============================] - 1s 21ms/step - loss: 0.0028\n",
            "Epoch 263/300\n",
            "63/63 [==============================] - 1s 22ms/step - loss: 0.0031\n",
            "Epoch 264/300\n",
            "63/63 [==============================] - 1s 22ms/step - loss: 0.0030\n",
            "Epoch 265/300\n",
            "63/63 [==============================] - 1s 21ms/step - loss: 0.0028\n",
            "Epoch 266/300\n",
            "63/63 [==============================] - 1s 21ms/step - loss: 0.0029\n",
            "Epoch 267/300\n",
            "63/63 [==============================] - 1s 21ms/step - loss: 0.0029\n",
            "Epoch 268/300\n",
            "63/63 [==============================] - 1s 21ms/step - loss: 0.0029\n",
            "Epoch 269/300\n",
            "63/63 [==============================] - 1s 22ms/step - loss: 0.0028\n",
            "Epoch 270/300\n",
            "63/63 [==============================] - 1s 22ms/step - loss: 0.0028\n",
            "Epoch 271/300\n",
            "63/63 [==============================] - 1s 22ms/step - loss: 0.0029\n",
            "Epoch 272/300\n",
            "63/63 [==============================] - 1s 22ms/step - loss: 0.0029\n",
            "Epoch 273/300\n",
            "63/63 [==============================] - 1s 22ms/step - loss: 0.0028\n",
            "Epoch 274/300\n",
            "63/63 [==============================] - 1s 22ms/step - loss: 0.0029\n",
            "Epoch 275/300\n",
            "63/63 [==============================] - 1s 22ms/step - loss: 0.0030\n",
            "Epoch 276/300\n",
            "63/63 [==============================] - 1s 22ms/step - loss: 0.0028\n",
            "Epoch 277/300\n",
            "63/63 [==============================] - 1s 21ms/step - loss: 0.0028\n",
            "Epoch 278/300\n",
            "63/63 [==============================] - 1s 22ms/step - loss: 0.0028\n",
            "Epoch 279/300\n",
            "63/63 [==============================] - 1s 21ms/step - loss: 0.0027\n",
            "Epoch 280/300\n",
            "63/63 [==============================] - 1s 22ms/step - loss: 0.0029\n",
            "Epoch 281/300\n",
            "63/63 [==============================] - 1s 22ms/step - loss: 0.0030\n",
            "Epoch 282/300\n",
            "63/63 [==============================] - 1s 22ms/step - loss: 0.0028\n",
            "Epoch 283/300\n",
            "63/63 [==============================] - 1s 22ms/step - loss: 0.0028\n",
            "Epoch 284/300\n",
            "63/63 [==============================] - 1s 21ms/step - loss: 0.0029\n",
            "Epoch 285/300\n",
            "63/63 [==============================] - 1s 22ms/step - loss: 0.0027\n",
            "Epoch 286/300\n",
            "63/63 [==============================] - 1s 21ms/step - loss: 0.0028\n",
            "Epoch 287/300\n",
            "63/63 [==============================] - 1s 21ms/step - loss: 0.0027\n",
            "Epoch 288/300\n",
            "63/63 [==============================] - 1s 21ms/step - loss: 0.0033\n",
            "Epoch 289/300\n",
            "63/63 [==============================] - 1s 22ms/step - loss: 0.0038\n",
            "Epoch 290/300\n",
            "63/63 [==============================] - 1s 22ms/step - loss: 0.0032\n",
            "Epoch 291/300\n",
            "63/63 [==============================] - 1s 22ms/step - loss: 0.0030\n",
            "Epoch 292/300\n",
            "63/63 [==============================] - 1s 21ms/step - loss: 0.0030\n",
            "Epoch 293/300\n",
            "63/63 [==============================] - 1s 22ms/step - loss: 0.0028\n",
            "Epoch 294/300\n",
            "63/63 [==============================] - 1s 22ms/step - loss: 0.0029\n",
            "Epoch 295/300\n",
            "63/63 [==============================] - 1s 21ms/step - loss: 0.0028\n",
            "Epoch 296/300\n",
            "63/63 [==============================] - 1s 22ms/step - loss: 0.0028\n",
            "Epoch 297/300\n",
            "63/63 [==============================] - 1s 21ms/step - loss: 0.0027\n",
            "Epoch 298/300\n",
            "63/63 [==============================] - 1s 21ms/step - loss: 0.0027\n",
            "Epoch 299/300\n",
            "63/63 [==============================] - 1s 22ms/step - loss: 0.0029\n",
            "Epoch 300/300\n",
            "63/63 [==============================] - 1s 22ms/step - loss: 0.0029\n"
          ]
        }
      ],
      "source": [
        "history = model.fit(Xtrain,Ytrain,epochs=300, verbose=1)"
      ]
    },
    {
      "cell_type": "code",
      "execution_count": null,
      "metadata": {
        "colab": {
          "base_uri": "https://localhost:8080/",
          "height": 368
        },
        "id": "9fDEAv_HrBr0",
        "outputId": "c66208b7-e4b7-486a-f8d5-4d061c9fcde9"
      },
      "outputs": [
        {
          "output_type": "execute_result",
          "data": {
            "text/plain": [
              "Text(0.5, 1.0, 'Model Accuracy')"
            ]
          },
          "metadata": {},
          "execution_count": 30
        },
        {
          "output_type": "display_data",
          "data": {
            "text/plain": [
              "<Figure size 576x360 with 1 Axes>"
            ],
            "image/png": "[encoded data removed]"
          },
          "metadata": {
            "needs_background": "light"
          }
        }
      ],
      "source": [
        "plt.figure(figsize=(8,5))\n",
        "plt.plot(history.history['loss'])\n",
        "plt.xlabel(\"Epochs\")\n",
        "plt.ylabel(\"Loss\")\n",
        "plt.title(\"Model Accuracy\")"
      ]
    },
    {
      "cell_type": "code",
      "execution_count": null,
      "metadata": {
        "id": "aE-MOCLvrBr0"
      },
      "outputs": [],
      "source": [
        "import pickle"
      ]
    },
    {
      "cell_type": "code",
      "source": [
        "pickle.dump(model,open('lstm_model.pkl','wb'))"
      ],
      "metadata": {
        "id": "kDU8als1r68z"
      },
      "execution_count": null,
      "outputs": []
    },
    {
      "cell_type": "code",
      "execution_count": null,
      "metadata": {
        "id": "N3P2si9BzQ4G"
      },
      "outputs": [],
      "source": [
        "model.save('lstm_mode_karan.hp5')"
      ]
    },
    {
      "cell_type": "code",
      "source": [
        "preds= model.predict(Xtest)\n",
        "preds = scaler.inverse_transform(preds)\n",
        "\n",
        "\n",
        "Ytest=np.asanyarray(Ytest)  \n",
        "Ytest=Ytest.reshape(-1,1) \n",
        "Ytest = scaler.inverse_transform(Ytest)\n",
        "\n",
        "\n",
        "Ytrain=np.asanyarray(Ytrain)  \n",
        "Ytrain=Ytrain.reshape(-1,1) \n",
        "Ytrain = scaler.inverse_transform(Ytrain)\n",
        "\n",
        "mean_squared_error(Ytest,preds)"
      ],
      "metadata": {
        "colab": {
          "base_uri": "https://localhost:8080/"
        },
        "id": "1K5YjZAghv5b",
        "outputId": "3842ba10-5ba7-4990-98b4-fec82de7a56a"
      },
      "execution_count": null,
      "outputs": [
        {
          "output_type": "stream",
          "name": "stdout",
          "text": [
            "5/5 [==============================] - 0s 5ms/step\n"
          ]
        },
        {
          "output_type": "execute_result",
          "data": {
            "text/plain": [
              "5642.4253"
            ]
          },
          "metadata": {},
          "execution_count": 33
        }
      ]
    },
    {
      "cell_type": "code",
      "source": [
        "pre= model.predict(Xtrain)\n",
        "pre = scaler.inverse_transform(pre)"
      ],
      "metadata": {
        "colab": {
          "base_uri": "https://localhost:8080/"
        },
        "id": "pRZBNhE05Bmp",
        "outputId": "563a438f-06fc-4b64-a546-a223d077a51d"
      },
      "execution_count": null,
      "outputs": [
        {
          "output_type": "stream",
          "name": "stdout",
          "text": [
            "63/63 [==============================] - 0s 6ms/step\n"
          ]
        }
      ]
    },
    {
      "cell_type": "code",
      "source": [
        "plt.figure(figsize=(20,9))\n",
        "plt.plot(Ytrain , 'blue', linewidth=5)\n",
        "plt.plot(pre,'r' , linewidth=4)\n",
        "plt.legend(('Train','Predicted'))\n",
        "plt.title(\"price Prediction\")\n",
        "plt.show()"
      ],
      "metadata": {
        "colab": {
          "base_uri": "https://localhost:8080/",
          "height": 523
        },
        "id": "yrwkcjip5WEt",
        "outputId": "81189acc-4214-4a1b-aa81-e85aa787a932"
      },
      "execution_count": null,
      "outputs": [
        {
          "output_type": "display_data",
          "data": {
            "text/plain": [
              "<Figure size 1440x648 with 1 Axes>"
            ],
            "image/png": "[encoded data removed]"
          },
          "metadata": {
            "needs_background": "light"
          }
        }
      ]
    },
    {
      "cell_type": "code",
      "execution_count": null,
      "metadata": {
        "colab": {
          "base_uri": "https://localhost:8080/",
          "height": 523
        },
        "id": "ZPd2zUDarBr1",
        "outputId": "c416639b-ff71-487a-947e-0cb08c6489bd"
      },
      "outputs": [
        {
          "output_type": "display_data",
          "data": {
            "text/plain": [
              "<Figure size 1440x648 with 1 Axes>"
            ],
            "image/png": "[encoded data removed]"
          },
          "metadata": {
            "needs_background": "light"
          }
        }
      ],
      "source": [
        "plt.figure(figsize=(20,9))\n",
        "plt.plot(Ytest , 'blue', linewidth=5)\n",
        "plt.plot(preds,'r' , linewidth=4)\n",
        "plt.legend(('Test','Predicted'))\n",
        "plt.title(\"price Prediction\")\n",
        "plt.show()"
      ]
    },
    {
      "cell_type": "code",
      "execution_count": null,
      "metadata": {
        "id": "IsEllxAxrBr1"
      },
      "outputs": [],
      "source": [
        "test = pd.DataFrame(Ytest,columns=['Actual'])\n",
        "pred = pd.DataFrame(preds,columns=['Predict'])"
      ]
    },
    {
      "cell_type": "code",
      "execution_count": null,
      "metadata": {
        "id": "oZf6QnfyrBr2"
      },
      "outputs": [],
      "source": [
        "results = pd.concat([test,pred],axis=1)"
      ]
    },
    {
      "cell_type": "code",
      "execution_count": null,
      "metadata": {
        "colab": {
          "base_uri": "https://localhost:8080/",
          "height": 676
        },
        "id": "ecmbJ38lrBr2",
        "outputId": "32833044-645a-4c1f-9e73-79d58f64e0ff"
      },
      "outputs": [
        {
          "output_type": "execute_result",
          "data": {
            "text/plain": [
              "         Actual      Predict\n",
              "0   4304.100098  4295.129883\n",
              "1   4306.700195  4279.322754\n",
              "2   4306.700195  4284.997070\n",
              "3   4294.299805  4270.350586\n",
              "4   4308.600098  4254.587402\n",
              "5   4317.700195  4263.765625\n",
              "6   4357.899902  4262.705566\n",
              "7   4331.700195  4345.192383\n",
              "8   4331.100098  4324.961426\n",
              "9   4347.299805  4280.263184\n",
              "10  4293.899902  4220.014160\n",
              "11  3967.300049  4238.953125\n",
              "12  4203.799805  4016.209229\n",
              "13  4306.899902  4315.570312\n",
              "14  4436.299805  4260.410645\n",
              "15  4327.200195  4302.106445\n",
              "16  4217.000000  4185.175293\n",
              "17  4236.799805  4167.905762\n",
              "18  4230.200195  4242.520020\n",
              "19  4331.700195  4293.012207"
            ],
            "text/html": [
              "\n",
              "  <div id=\"df-7bfe5b56-b140-44f5-949e-907f267bfe80\">\n",
              "    <div class=\"colab-df-container\">\n",
              "      <div>\n",
              "<style scoped>\n",
              "    .dataframe tbody tr th:only-of-type {\n",
              "        vertical-align: middle;\n",
              "    }\n",
              "\n",
              "    .dataframe tbody tr th {\n",
              "        vertical-align: top;\n",
              "    }\n",
              "\n",
              "    .dataframe thead th {\n",
              "        text-align: right;\n",
              "    }\n",
              "</style>\n",
              "<table border=\"1\" class=\"dataframe\">\n",
              "  <thead>\n",
              "    <tr style=\"text-align: right;\">\n",
              "      <th></th>\n",
              "      <th>Actual</th>\n",
              "      <th>Predict</th>\n",
              "    </tr>\n",
              "  </thead>\n",
              "  <tbody>\n",
              "    <tr>\n",
              "      <th>0</th>\n",
              "      <td>4304.100098</td>\n",
              "      <td>4295.129883</td>\n",
              "    </tr>\n",
              "    <tr>\n",
              "      <th>1</th>\n",
              "      <td>4306.700195</td>\n",
              "      <td>4279.322754</td>\n",
              "    </tr>\n",
              "    <tr>\n",
              "      <th>2</th>\n",
              "      <td>4306.700195</td>\n",
              "      <td>4284.997070</td>\n",
              "    </tr>\n",
              "    <tr>\n",
              "      <th>3</th>\n",
              "      <td>4294.299805</td>\n",
              "      <td>4270.350586</td>\n",
              "    </tr>\n",
              "    <tr>\n",
              "      <th>4</th>\n",
              "      <td>4308.600098</td>\n",
              "      <td>4254.587402</td>\n",
              "    </tr>\n",
              "    <tr>\n",
              "      <th>5</th>\n",
              "      <td>4317.700195</td>\n",
              "      <td>4263.765625</td>\n",
              "    </tr>\n",
              "    <tr>\n",
              "      <th>6</th>\n",
              "      <td>4357.899902</td>\n",
              "      <td>4262.705566</td>\n",
              "    </tr>\n",
              "    <tr>\n",
              "      <th>7</th>\n",
              "      <td>4331.700195</td>\n",
              "      <td>4345.192383</td>\n",
              "    </tr>\n",
              "    <tr>\n",
              "      <th>8</th>\n",
              "      <td>4331.100098</td>\n",
              "      <td>4324.961426</td>\n",
              "    </tr>\n",
              "    <tr>\n",
              "      <th>9</th>\n",
              "      <td>4347.299805</td>\n",
              "      <td>4280.263184</td>\n",
              "    </tr>\n",
              "    <tr>\n",
              "      <th>10</th>\n",
              "      <td>4293.899902</td>\n",
              "      <td>4220.014160</td>\n",
              "    </tr>\n",
              "    <tr>\n",
              "      <th>11</th>\n",
              "      <td>3967.300049</td>\n",
              "      <td>4238.953125</td>\n",
              "    </tr>\n",
              "    <tr>\n",
              "      <th>12</th>\n",
              "      <td>4203.799805</td>\n",
              "      <td>4016.209229</td>\n",
              "    </tr>\n",
              "    <tr>\n",
              "      <th>13</th>\n",
              "      <td>4306.899902</td>\n",
              "      <td>4315.570312</td>\n",
              "    </tr>\n",
              "    <tr>\n",
              "      <th>14</th>\n",
              "      <td>4436.299805</td>\n",
              "      <td>4260.410645</td>\n",
              "    </tr>\n",
              "    <tr>\n",
              "      <th>15</th>\n",
              "      <td>4327.200195</td>\n",
              "      <td>4302.106445</td>\n",
              "    </tr>\n",
              "    <tr>\n",
              "      <th>16</th>\n",
              "      <td>4217.000000</td>\n",
              "      <td>4185.175293</td>\n",
              "    </tr>\n",
              "    <tr>\n",
              "      <th>17</th>\n",
              "      <td>4236.799805</td>\n",
              "      <td>4167.905762</td>\n",
              "    </tr>\n",
              "    <tr>\n",
              "      <th>18</th>\n",
              "      <td>4230.200195</td>\n",
              "      <td>4242.520020</td>\n",
              "    </tr>\n",
              "    <tr>\n",
              "      <th>19</th>\n",
              "      <td>4331.700195</td>\n",
              "      <td>4293.012207</td>\n",
              "    </tr>\n",
              "  </tbody>\n",
              "</table>\n",
              "</div>\n",
              "      <button class=\"colab-df-convert\" onclick=\"convertToInteractive('df-7bfe5b56-b140-44f5-949e-907f267bfe80')\"\n",
              "              title=\"Convert this dataframe to an interactive table.\"\n",
              "              style=\"display:none;\">\n",
              "        \n",
              "  <svg xmlns=\"http://www.w3.org/2000/svg\" height=\"24px\"viewBox=\"0 0 24 24\"\n",
              "       width=\"24px\">\n",
              "    <path d=\"M0 0h24v24H0V0z\" fill=\"none\"/>\n",
              "    <path d=\"M18.56 5.44l.94 2.06.94-2.06 2.06-.94-2.06-.94-.94-2.06-.94 2.06-2.06.94zm-11 1L8.5 8.5l.94-2.06 2.06-.94-2.06-.94L8.5 2.5l-.94 2.06-2.06.94zm10 10l.94 2.06.94-2.06 2.06-.94-2.06-.94-.94-2.06-.94 2.06-2.06.94z\"/><path d=\"M17.41 7.96l-1.37-1.37c-.4-.4-.92-.59-1.43-.59-.52 0-1.04.2-1.43.59L10.3 9.45l-7.72 7.72c-.78.78-.78 2.05 0 2.83L4 21.41c.39.39.9.59 1.41.59.51 0 1.02-.2 1.41-.59l7.78-7.78 2.81-2.81c.8-.78.8-2.07 0-2.86zM5.41 20L4 18.59l7.72-7.72 1.47 1.35L5.41 20z\"/>\n",
              "  </svg>\n",
              "      </button>\n",
              "      \n",
              "  <style>\n",
              "    .colab-df-container {\n",
              "      display:flex;\n",
              "      flex-wrap:wrap;\n",
              "      gap: 12px;\n",
              "    }\n",
              "\n",
              "    .colab-df-convert {\n",
              "      background-color: #E8F0FE;\n",
              "      border: none;\n",
              "      border-radius: 50%;\n",
              "      cursor: pointer;\n",
              "      display: none;\n",
              "      fill: #1967D2;\n",
              "      height: 32px;\n",
              "      padding: 0 0 0 0;\n",
              "      width: 32px;\n",
              "    }\n",
              "\n",
              "    .colab-df-convert:hover {\n",
              "      background-color: #E2EBFA;\n",
              "      box-shadow: 0px 1px 2px rgba(60, 64, 67, 0.3), 0px 1px 3px 1px rgba(60, 64, 67, 0.15);\n",
              "      fill: #174EA6;\n",
              "    }\n",
              "\n",
              "    [theme=dark] .colab-df-convert {\n",
              "      background-color: #3B4455;\n",
              "      fill: #D2E3FC;\n",
              "    }\n",
              "\n",
              "    [theme=dark] .colab-df-convert:hover {\n",
              "      background-color: #434B5C;\n",
              "      box-shadow: 0px 1px 3px 1px rgba(0, 0, 0, 0.15);\n",
              "      filter: drop-shadow(0px 1px 2px rgba(0, 0, 0, 0.3));\n",
              "      fill: #FFFFFF;\n",
              "    }\n",
              "  </style>\n",
              "\n",
              "      <script>\n",
              "        const buttonEl =\n",
              "          document.querySelector('#df-7bfe5b56-b140-44f5-949e-907f267bfe80 button.colab-df-convert');\n",
              "        buttonEl.style.display =\n",
              "          google.colab.kernel.accessAllowed ? 'block' : 'none';\n",
              "\n",
              "        async function convertToInteractive(key) {\n",
              "          const element = document.querySelector('#df-7bfe5b56-b140-44f5-949e-907f267bfe80');\n",
              "          const dataTable =\n",
              "            await google.colab.kernel.invokeFunction('convertToInteractive',\n",
              "                                                     [key], {});\n",
              "          if (!dataTable) return;\n",
              "\n",
              "          const docLinkHtml = 'Like what you see? Visit the ' +\n",
              "            '<a target=\"_blank\" href=https://colab.research.google.com/notebooks/data_table.ipynb>data table notebook</a>'\n",
              "            + ' to learn more about interactive tables.';\n",
              "          element.innerHTML = '';\n",
              "          dataTable['output_type'] = 'display_data';\n",
              "          await google.colab.output.renderOutput(dataTable, element);\n",
              "          const docLink = document.createElement('div');\n",
              "          docLink.innerHTML = docLinkHtml;\n",
              "          element.appendChild(docLink);\n",
              "        }\n",
              "      </script>\n",
              "    </div>\n",
              "  </div>\n",
              "  "
            ]
          },
          "metadata": {},
          "execution_count": 39
        }
      ],
      "source": [
        "results.head(20)"
      ]
    },
    {
      "cell_type": "code",
      "execution_count": null,
      "metadata": {
        "id": "KDexM3E6rBr2"
      },
      "outputs": [],
      "source": [
        "def insert_end(Xin,new_input):\n",
        "    #print ('Before: \\n', Xin , new_input )\n",
        "    for i in range(timestep-1):\n",
        "        Xin[:,i,:] = Xin[:,i+1,:]\n",
        "    Xin[:,timestep-1,:] = new_input\n",
        "    #print ('After :\\n', Xin)\n",
        "    return Xin\n"
      ]
    },
    {
      "cell_type": "code",
      "execution_count": null,
      "metadata": {
        "colab": {
          "base_uri": "https://localhost:8080/",
          "height": 455
        },
        "id": "rPZrhRrkrBr3",
        "outputId": "b146f241-9a86-4c55-a774-e9559ed6a86b"
      },
      "outputs": [
        {
          "output_type": "execute_result",
          "data": {
            "text/plain": [
              "              price\n",
              "date               \n",
              "2016-01-01  2252.60\n",
              "2016-01-02  2454.50\n",
              "2016-01-03  2708.10\n",
              "2016-01-04  2577.80\n",
              "2016-01-05  2597.75\n",
              "...             ...\n",
              "2021-12-17  4394.40\n",
              "2021-12-18  4389.50\n",
              "2021-12-19  4389.50\n",
              "2021-12-20  4354.10\n",
              "2021-12-21  4346.50\n",
              "\n",
              "[2182 rows x 1 columns]"
            ],
            "text/html": [
              "\n",
              "  <div id=\"df-77d72517-7a35-422e-87bb-55e4bfc36e57\">\n",
              "    <div class=\"colab-df-container\">\n",
              "      <div>\n",
              "<style scoped>\n",
              "    .dataframe tbody tr th:only-of-type {\n",
              "        vertical-align: middle;\n",
              "    }\n",
              "\n",
              "    .dataframe tbody tr th {\n",
              "        vertical-align: top;\n",
              "    }\n",
              "\n",
              "    .dataframe thead th {\n",
              "        text-align: right;\n",
              "    }\n",
              "</style>\n",
              "<table border=\"1\" class=\"dataframe\">\n",
              "  <thead>\n",
              "    <tr style=\"text-align: right;\">\n",
              "      <th></th>\n",
              "      <th>price</th>\n",
              "    </tr>\n",
              "    <tr>\n",
              "      <th>date</th>\n",
              "      <th></th>\n",
              "    </tr>\n",
              "  </thead>\n",
              "  <tbody>\n",
              "    <tr>\n",
              "      <th>2016-01-01</th>\n",
              "      <td>2252.60</td>\n",
              "    </tr>\n",
              "    <tr>\n",
              "      <th>2016-01-02</th>\n",
              "      <td>2454.50</td>\n",
              "    </tr>\n",
              "    <tr>\n",
              "      <th>2016-01-03</th>\n",
              "      <td>2708.10</td>\n",
              "    </tr>\n",
              "    <tr>\n",
              "      <th>2016-01-04</th>\n",
              "      <td>2577.80</td>\n",
              "    </tr>\n",
              "    <tr>\n",
              "      <th>2016-01-05</th>\n",
              "      <td>2597.75</td>\n",
              "    </tr>\n",
              "    <tr>\n",
              "      <th>...</th>\n",
              "      <td>...</td>\n",
              "    </tr>\n",
              "    <tr>\n",
              "      <th>2021-12-17</th>\n",
              "      <td>4394.40</td>\n",
              "    </tr>\n",
              "    <tr>\n",
              "      <th>2021-12-18</th>\n",
              "      <td>4389.50</td>\n",
              "    </tr>\n",
              "    <tr>\n",
              "      <th>2021-12-19</th>\n",
              "      <td>4389.50</td>\n",
              "    </tr>\n",
              "    <tr>\n",
              "      <th>2021-12-20</th>\n",
              "      <td>4354.10</td>\n",
              "    </tr>\n",
              "    <tr>\n",
              "      <th>2021-12-21</th>\n",
              "      <td>4346.50</td>\n",
              "    </tr>\n",
              "  </tbody>\n",
              "</table>\n",
              "<p>2182 rows × 1 columns</p>\n",
              "</div>\n",
              "      <button class=\"colab-df-convert\" onclick=\"convertToInteractive('df-77d72517-7a35-422e-87bb-55e4bfc36e57')\"\n",
              "              title=\"Convert this dataframe to an interactive table.\"\n",
              "              style=\"display:none;\">\n",
              "        \n",
              "  <svg xmlns=\"http://www.w3.org/2000/svg\" height=\"24px\"viewBox=\"0 0 24 24\"\n",
              "       width=\"24px\">\n",
              "    <path d=\"M0 0h24v24H0V0z\" fill=\"none\"/>\n",
              "    <path d=\"M18.56 5.44l.94 2.06.94-2.06 2.06-.94-2.06-.94-.94-2.06-.94 2.06-2.06.94zm-11 1L8.5 8.5l.94-2.06 2.06-.94-2.06-.94L8.5 2.5l-.94 2.06-2.06.94zm10 10l.94 2.06.94-2.06 2.06-.94-2.06-.94-.94-2.06-.94 2.06-2.06.94z\"/><path d=\"M17.41 7.96l-1.37-1.37c-.4-.4-.92-.59-1.43-.59-.52 0-1.04.2-1.43.59L10.3 9.45l-7.72 7.72c-.78.78-.78 2.05 0 2.83L4 21.41c.39.39.9.59 1.41.59.51 0 1.02-.2 1.41-.59l7.78-7.78 2.81-2.81c.8-.78.8-2.07 0-2.86zM5.41 20L4 18.59l7.72-7.72 1.47 1.35L5.41 20z\"/>\n",
              "  </svg>\n",
              "      </button>\n",
              "      \n",
              "  <style>\n",
              "    .colab-df-container {\n",
              "      display:flex;\n",
              "      flex-wrap:wrap;\n",
              "      gap: 12px;\n",
              "    }\n",
              "\n",
              "    .colab-df-convert {\n",
              "      background-color: #E8F0FE;\n",
              "      border: none;\n",
              "      border-radius: 50%;\n",
              "      cursor: pointer;\n",
              "      display: none;\n",
              "      fill: #1967D2;\n",
              "      height: 32px;\n",
              "      padding: 0 0 0 0;\n",
              "      width: 32px;\n",
              "    }\n",
              "\n",
              "    .colab-df-convert:hover {\n",
              "      background-color: #E2EBFA;\n",
              "      box-shadow: 0px 1px 2px rgba(60, 64, 67, 0.3), 0px 1px 3px 1px rgba(60, 64, 67, 0.15);\n",
              "      fill: #174EA6;\n",
              "    }\n",
              "\n",
              "    [theme=dark] .colab-df-convert {\n",
              "      background-color: #3B4455;\n",
              "      fill: #D2E3FC;\n",
              "    }\n",
              "\n",
              "    [theme=dark] .colab-df-convert:hover {\n",
              "      background-color: #434B5C;\n",
              "      box-shadow: 0px 1px 3px 1px rgba(0, 0, 0, 0.15);\n",
              "      filter: drop-shadow(0px 1px 2px rgba(0, 0, 0, 0.3));\n",
              "      fill: #FFFFFF;\n",
              "    }\n",
              "  </style>\n",
              "\n",
              "      <script>\n",
              "        const buttonEl =\n",
              "          document.querySelector('#df-77d72517-7a35-422e-87bb-55e4bfc36e57 button.colab-df-convert');\n",
              "        buttonEl.style.display =\n",
              "          google.colab.kernel.accessAllowed ? 'block' : 'none';\n",
              "\n",
              "        async function convertToInteractive(key) {\n",
              "          const element = document.querySelector('#df-77d72517-7a35-422e-87bb-55e4bfc36e57');\n",
              "          const dataTable =\n",
              "            await google.colab.kernel.invokeFunction('convertToInteractive',\n",
              "                                                     [key], {});\n",
              "          if (!dataTable) return;\n",
              "\n",
              "          const docLinkHtml = 'Like what you see? Visit the ' +\n",
              "            '<a target=\"_blank\" href=https://colab.research.google.com/notebooks/data_table.ipynb>data table notebook</a>'\n",
              "            + ' to learn more about interactive tables.';\n",
              "          element.innerHTML = '';\n",
              "          dataTable['output_type'] = 'display_data';\n",
              "          await google.colab.output.renderOutput(dataTable, element);\n",
              "          const docLink = document.createElement('div');\n",
              "          docLink.innerHTML = docLinkHtml;\n",
              "          element.appendChild(docLink);\n",
              "        }\n",
              "      </script>\n",
              "    </div>\n",
              "  </div>\n",
              "  "
            ]
          },
          "metadata": {},
          "execution_count": 41
        }
      ],
      "source": [
        "df"
      ]
    },
    {
      "cell_type": "code",
      "execution_count": null,
      "metadata": {
        "colab": {
          "base_uri": "https://localhost:8080/"
        },
        "collapsed": true,
        "id": "QZBChOlOrBr3",
        "outputId": "672728ce-e98e-4ef6-f2c4-945af48bf48c"
      },
      "outputs": [
        {
          "output_type": "stream",
          "name": "stdout",
          "text": [
            "1/1 [==============================] - 0s 16ms/step\n",
            "[0.5344516]\n",
            "1/1 [==============================] - 0s 16ms/step\n",
            "[0.5344516, 0.52800703]\n",
            "1/1 [==============================] - 0s 15ms/step\n",
            "[0.5344516, 0.52800703, 0.5130563]\n",
            "1/1 [==============================] - 0s 16ms/step\n",
            "[0.5344516, 0.52800703, 0.5130563, 0.4970808]\n",
            "1/1 [==============================] - 0s 20ms/step\n",
            "[0.5344516, 0.52800703, 0.5130563, 0.4970808, 0.48607105]\n",
            "1/1 [==============================] - 0s 17ms/step\n",
            "[0.5344516, 0.52800703, 0.5130563, 0.4970808, 0.48607105, 0.4801669]\n",
            "1/1 [==============================] - 0s 14ms/step\n",
            "[0.5344516, 0.52800703, 0.5130563, 0.4970808, 0.48607105, 0.4801669, 0.4772467]\n",
            "1/1 [==============================] - 0s 14ms/step\n",
            "[0.5344516, 0.52800703, 0.5130563, 0.4970808, 0.48607105, 0.4801669, 0.4772467, 0.47370735]\n",
            "1/1 [==============================] - 0s 17ms/step\n",
            "[0.5344516, 0.52800703, 0.5130563, 0.4970808, 0.48607105, 0.4801669, 0.4772467, 0.47370735, 0.46753705]\n",
            "1/1 [==============================] - 0s 17ms/step\n",
            "[0.5344516, 0.52800703, 0.5130563, 0.4970808, 0.48607105, 0.4801669, 0.4772467, 0.47370735, 0.46753705, 0.47291738]\n",
            "1/1 [==============================] - 0s 18ms/step\n",
            "[0.5344516, 0.52800703, 0.5130563, 0.4970808, 0.48607105, 0.4801669, 0.4772467, 0.47370735, 0.46753705, 0.47291738, 0.47695184]\n",
            "1/1 [==============================] - 0s 16ms/step\n",
            "[0.5344516, 0.52800703, 0.5130563, 0.4970808, 0.48607105, 0.4801669, 0.4772467, 0.47370735, 0.46753705, 0.47291738, 0.47695184, 0.4458576]\n",
            "1/1 [==============================] - 0s 16ms/step\n",
            "[0.5344516, 0.52800703, 0.5130563, 0.4970808, 0.48607105, 0.4801669, 0.4772467, 0.47370735, 0.46753705, 0.47291738, 0.47695184, 0.4458576, 0.37633193]\n",
            "1/1 [==============================] - 0s 18ms/step\n",
            "[0.5344516, 0.52800703, 0.5130563, 0.4970808, 0.48607105, 0.4801669, 0.4772467, 0.47370735, 0.46753705, 0.47291738, 0.47695184, 0.4458576, 0.37633193, 0.37700182]\n",
            "1/1 [==============================] - 0s 17ms/step\n",
            "[0.5344516, 0.52800703, 0.5130563, 0.4970808, 0.48607105, 0.4801669, 0.4772467, 0.47370735, 0.46753705, 0.47291738, 0.47695184, 0.4458576, 0.37633193, 0.37700182, 0.4386166]\n",
            "1/1 [==============================] - 0s 17ms/step\n",
            "[0.5344516, 0.52800703, 0.5130563, 0.4970808, 0.48607105, 0.4801669, 0.4772467, 0.47370735, 0.46753705, 0.47291738, 0.47695184, 0.4458576, 0.37633193, 0.37700182, 0.4386166, 0.47139522]\n",
            "1/1 [==============================] - 0s 18ms/step\n",
            "[0.5344516, 0.52800703, 0.5130563, 0.4970808, 0.48607105, 0.4801669, 0.4772467, 0.47370735, 0.46753705, 0.47291738, 0.47695184, 0.4458576, 0.37633193, 0.37700182, 0.4386166, 0.47139522, 0.45563614]\n",
            "1/1 [==============================] - 0s 13ms/step\n",
            "[0.5344516, 0.52800703, 0.5130563, 0.4970808, 0.48607105, 0.4801669, 0.4772467, 0.47370735, 0.46753705, 0.47291738, 0.47695184, 0.4458576, 0.37633193, 0.37700182, 0.4386166, 0.47139522, 0.45563614, 0.42134684]\n",
            "1/1 [==============================] - 0s 14ms/step\n",
            "[0.5344516, 0.52800703, 0.5130563, 0.4970808, 0.48607105, 0.4801669, 0.4772467, 0.47370735, 0.46753705, 0.47291738, 0.47695184, 0.4458576, 0.37633193, 0.37700182, 0.4386166, 0.47139522, 0.45563614, 0.42134684, 0.40152586]\n",
            "1/1 [==============================] - 0s 18ms/step\n",
            "[0.5344516, 0.52800703, 0.5130563, 0.4970808, 0.48607105, 0.4801669, 0.4772467, 0.47370735, 0.46753705, 0.47291738, 0.47695184, 0.4458576, 0.37633193, 0.37700182, 0.4386166, 0.47139522, 0.45563614, 0.42134684, 0.40152586, 0.4265025]\n",
            "1/1 [==============================] - 0s 13ms/step\n",
            "[0.5344516, 0.52800703, 0.5130563, 0.4970808, 0.48607105, 0.4801669, 0.4772467, 0.47370735, 0.46753705, 0.47291738, 0.47695184, 0.4458576, 0.37633193, 0.37700182, 0.4386166, 0.47139522, 0.45563614, 0.42134684, 0.40152586, 0.4265025, 0.4561146]\n",
            "1/1 [==============================] - 0s 15ms/step\n",
            "[0.5344516, 0.52800703, 0.5130563, 0.4970808, 0.48607105, 0.4801669, 0.4772467, 0.47370735, 0.46753705, 0.47291738, 0.47695184, 0.4458576, 0.37633193, 0.37700182, 0.4386166, 0.47139522, 0.45563614, 0.42134684, 0.40152586, 0.4265025, 0.4561146, 0.45917743]\n",
            "1/1 [==============================] - 0s 13ms/step\n",
            "[0.5344516, 0.52800703, 0.5130563, 0.4970808, 0.48607105, 0.4801669, 0.4772467, 0.47370735, 0.46753705, 0.47291738, 0.47695184, 0.4458576, 0.37633193, 0.37700182, 0.4386166, 0.47139522, 0.45563614, 0.42134684, 0.40152586, 0.4265025, 0.4561146, 0.45917743, 0.448653]\n",
            "1/1 [==============================] - 0s 13ms/step\n",
            "[0.5344516, 0.52800703, 0.5130563, 0.4970808, 0.48607105, 0.4801669, 0.4772467, 0.47370735, 0.46753705, 0.47291738, 0.47695184, 0.4458576, 0.37633193, 0.37700182, 0.4386166, 0.47139522, 0.45563614, 0.42134684, 0.40152586, 0.4265025, 0.4561146, 0.45917743, 0.448653, 0.43033]\n",
            "1/1 [==============================] - 0s 13ms/step\n",
            "[0.5344516, 0.52800703, 0.5130563, 0.4970808, 0.48607105, 0.4801669, 0.4772467, 0.47370735, 0.46753705, 0.47291738, 0.47695184, 0.4458576, 0.37633193, 0.37700182, 0.4386166, 0.47139522, 0.45563614, 0.42134684, 0.40152586, 0.4265025, 0.4561146, 0.45917743, 0.448653, 0.43033, 0.41735166]\n",
            "1/1 [==============================] - 0s 12ms/step\n",
            "[0.5344516, 0.52800703, 0.5130563, 0.4970808, 0.48607105, 0.4801669, 0.4772467, 0.47370735, 0.46753705, 0.47291738, 0.47695184, 0.4458576, 0.37633193, 0.37700182, 0.4386166, 0.47139522, 0.45563614, 0.42134684, 0.40152586, 0.4265025, 0.4561146, 0.45917743, 0.448653, 0.43033, 0.41735166, 0.42462894]\n",
            "1/1 [==============================] - 0s 13ms/step\n",
            "[0.5344516, 0.52800703, 0.5130563, 0.4970808, 0.48607105, 0.4801669, 0.4772467, 0.47370735, 0.46753705, 0.47291738, 0.47695184, 0.4458576, 0.37633193, 0.37700182, 0.4386166, 0.47139522, 0.45563614, 0.42134684, 0.40152586, 0.4265025, 0.4561146, 0.45917743, 0.448653, 0.43033, 0.41735166, 0.42462894, 0.43820345]\n",
            "1/1 [==============================] - 0s 16ms/step\n",
            "[0.5344516, 0.52800703, 0.5130563, 0.4970808, 0.48607105, 0.4801669, 0.4772467, 0.47370735, 0.46753705, 0.47291738, 0.47695184, 0.4458576, 0.37633193, 0.37700182, 0.4386166, 0.47139522, 0.45563614, 0.42134684, 0.40152586, 0.4265025, 0.4561146, 0.45917743, 0.448653, 0.43033, 0.41735166, 0.42462894, 0.43820345, 0.44601166]\n",
            "1/1 [==============================] - 0s 14ms/step\n",
            "[0.5344516, 0.52800703, 0.5130563, 0.4970808, 0.48607105, 0.4801669, 0.4772467, 0.47370735, 0.46753705, 0.47291738, 0.47695184, 0.4458576, 0.37633193, 0.37700182, 0.4386166, 0.47139522, 0.45563614, 0.42134684, 0.40152586, 0.4265025, 0.4561146, 0.45917743, 0.448653, 0.43033, 0.41735166, 0.42462894, 0.43820345, 0.44601166, 0.44465196]\n",
            "1/1 [==============================] - 0s 15ms/step\n",
            "[0.5344516, 0.52800703, 0.5130563, 0.4970808, 0.48607105, 0.4801669, 0.4772467, 0.47370735, 0.46753705, 0.47291738, 0.47695184, 0.4458576, 0.37633193, 0.37700182, 0.4386166, 0.47139522, 0.45563614, 0.42134684, 0.40152586, 0.4265025, 0.4561146, 0.45917743, 0.448653, 0.43033, 0.41735166, 0.42462894, 0.43820345, 0.44601166, 0.44465196, 0.43465912]\n"
          ]
        }
      ],
      "source": [
        "\n",
        "# this section for unknown future\n",
        "#we are getting next 30 steps\n",
        "from datetime import timedelta\n",
        "future=30\n",
        "forcast = []\n",
        "Xin = Xtest[-1:,:,:]\n",
        "time=[]\n",
        "for i in range(future):\n",
        "    out = model.predict(Xin, batch_size=1)    \n",
        "    forcast.append(out[0,0]) \n",
        "    print(forcast)\n",
        "    Xin = insert_end(Xin,out[0,0]) \n",
        "    time.append(pd.to_datetime(df.index[-1])+timedelta(days=i+1))\n"
      ]
    },
    {
      "cell_type": "code",
      "execution_count": null,
      "metadata": {
        "id": "xruekVgOrBr4"
      },
      "outputs": [],
      "source": [
        "forcasted_output=np.asanyarray(forcast)   \n",
        "forcasted_output=forcasted_output.reshape(-1,1) \n",
        "forcasted_output = scaler.inverse_transform(forcasted_output) "
      ]
    },
    {
      "cell_type": "code",
      "execution_count": null,
      "metadata": {
        "id": "yVzjkK2frBr4"
      },
      "outputs": [],
      "source": [
        "forcasted_output = pd.DataFrame(forcasted_output)\n",
        "date = pd.DataFrame(time)\n",
        "df_result = pd.concat([date,forcasted_output],axis=1)\n",
        "df_result.columns = \"Date\",\"Forecasted\""
      ]
    },
    {
      "cell_type": "code",
      "execution_count": null,
      "metadata": {
        "colab": {
          "base_uri": "https://localhost:8080/"
        },
        "id": "_NipD6I9rBr5",
        "outputId": "f6522293-b1c8-42c8-9479-687460d07fe5"
      },
      "outputs": [
        {
          "output_type": "execute_result",
          "data": {
            "text/plain": [
              "Index(['price'], dtype='object')"
            ]
          },
          "metadata": {},
          "execution_count": 45
        }
      ],
      "source": [
        "df.columns"
      ]
    },
    {
      "cell_type": "code",
      "execution_count": null,
      "metadata": {
        "colab": {
          "base_uri": "https://localhost:8080/",
          "height": 990
        },
        "id": "JQMHg922rBr5",
        "outputId": "33f3053a-7091-4010-a249-57bb838ee7ce"
      },
      "outputs": [
        {
          "output_type": "execute_result",
          "data": {
            "text/plain": [
              "         Date   Forecasted\n",
              "0  2021-12-22  4334.620605\n",
              "1  2021-12-23  4325.875977\n",
              "2  2021-12-24  4305.590332\n",
              "3  2021-12-25  4283.914062\n",
              "4  2021-12-26  4268.975586\n",
              "5  2021-12-27  4260.964355\n",
              "6  2021-12-28  4257.001953\n",
              "7  2021-12-29  4252.199707\n",
              "8  2021-12-30  4243.827148\n",
              "9  2021-12-31  4251.127930\n",
              "10 2022-01-01  4256.602051\n",
              "11 2022-01-02  4214.411621\n",
              "12 2022-01-03  4120.075684\n",
              "13 2022-01-04  4120.984863\n",
              "14 2022-01-05  4204.586914\n",
              "15 2022-01-06  4249.062500\n",
              "16 2022-01-07  4227.679688\n",
              "17 2022-01-08  4181.154297\n",
              "18 2022-01-09  4154.260254\n",
              "19 2022-01-10  4188.149902\n",
              "20 2022-01-11  4228.329102\n",
              "21 2022-01-12  4232.484863\n",
              "22 2022-01-13  4218.204590\n",
              "23 2022-01-14  4193.343262\n",
              "24 2022-01-15  4175.733398\n",
              "25 2022-01-16  4185.607910\n",
              "26 2022-01-17  4204.025879\n",
              "27 2022-01-18  4214.620605\n",
              "28 2022-01-19  4212.775879\n",
              "29 2022-01-20  4199.216797"
            ],
            "text/html": [
              "\n",
              "  <div id=\"df-091b5ced-7cdc-425f-9a62-a2ca64c53fb2\">\n",
              "    <div class=\"colab-df-container\">\n",
              "      <div>\n",
              "<style scoped>\n",
              "    .dataframe tbody tr th:only-of-type {\n",
              "        vertical-align: middle;\n",
              "    }\n",
              "\n",
              "    .dataframe tbody tr th {\n",
              "        vertical-align: top;\n",
              "    }\n",
              "\n",
              "    .dataframe thead th {\n",
              "        text-align: right;\n",
              "    }\n",
              "</style>\n",
              "<table border=\"1\" class=\"dataframe\">\n",
              "  <thead>\n",
              "    <tr style=\"text-align: right;\">\n",
              "      <th></th>\n",
              "      <th>Date</th>\n",
              "      <th>Forecasted</th>\n",
              "    </tr>\n",
              "  </thead>\n",
              "  <tbody>\n",
              "    <tr>\n",
              "      <th>0</th>\n",
              "      <td>2021-12-22</td>\n",
              "      <td>4334.620605</td>\n",
              "    </tr>\n",
              "    <tr>\n",
              "      <th>1</th>\n",
              "      <td>2021-12-23</td>\n",
              "      <td>4325.875977</td>\n",
              "    </tr>\n",
              "    <tr>\n",
              "      <th>2</th>\n",
              "      <td>2021-12-24</td>\n",
              "      <td>4305.590332</td>\n",
              "    </tr>\n",
              "    <tr>\n",
              "      <th>3</th>\n",
              "      <td>2021-12-25</td>\n",
              "      <td>4283.914062</td>\n",
              "    </tr>\n",
              "    <tr>\n",
              "      <th>4</th>\n",
              "      <td>2021-12-26</td>\n",
              "      <td>4268.975586</td>\n",
              "    </tr>\n",
              "    <tr>\n",
              "      <th>5</th>\n",
              "      <td>2021-12-27</td>\n",
              "      <td>4260.964355</td>\n",
              "    </tr>\n",
              "    <tr>\n",
              "      <th>6</th>\n",
              "      <td>2021-12-28</td>\n",
              "      <td>4257.001953</td>\n",
              "    </tr>\n",
              "    <tr>\n",
              "      <th>7</th>\n",
              "      <td>2021-12-29</td>\n",
              "      <td>4252.199707</td>\n",
              "    </tr>\n",
              "    <tr>\n",
              "      <th>8</th>\n",
              "      <td>2021-12-30</td>\n",
              "      <td>4243.827148</td>\n",
              "    </tr>\n",
              "    <tr>\n",
              "      <th>9</th>\n",
              "      <td>2021-12-31</td>\n",
              "      <td>4251.127930</td>\n",
              "    </tr>\n",
              "    <tr>\n",
              "      <th>10</th>\n",
              "      <td>2022-01-01</td>\n",
              "      <td>4256.602051</td>\n",
              "    </tr>\n",
              "    <tr>\n",
              "      <th>11</th>\n",
              "      <td>2022-01-02</td>\n",
              "      <td>4214.411621</td>\n",
              "    </tr>\n",
              "    <tr>\n",
              "      <th>12</th>\n",
              "      <td>2022-01-03</td>\n",
              "      <td>4120.075684</td>\n",
              "    </tr>\n",
              "    <tr>\n",
              "      <th>13</th>\n",
              "      <td>2022-01-04</td>\n",
              "      <td>4120.984863</td>\n",
              "    </tr>\n",
              "    <tr>\n",
              "      <th>14</th>\n",
              "      <td>2022-01-05</td>\n",
              "      <td>4204.586914</td>\n",
              "    </tr>\n",
              "    <tr>\n",
              "      <th>15</th>\n",
              "      <td>2022-01-06</td>\n",
              "      <td>4249.062500</td>\n",
              "    </tr>\n",
              "    <tr>\n",
              "      <th>16</th>\n",
              "      <td>2022-01-07</td>\n",
              "      <td>4227.679688</td>\n",
              "    </tr>\n",
              "    <tr>\n",
              "      <th>17</th>\n",
              "      <td>2022-01-08</td>\n",
              "      <td>4181.154297</td>\n",
              "    </tr>\n",
              "    <tr>\n",
              "      <th>18</th>\n",
              "      <td>2022-01-09</td>\n",
              "      <td>4154.260254</td>\n",
              "    </tr>\n",
              "    <tr>\n",
              "      <th>19</th>\n",
              "      <td>2022-01-10</td>\n",
              "      <td>4188.149902</td>\n",
              "    </tr>\n",
              "    <tr>\n",
              "      <th>20</th>\n",
              "      <td>2022-01-11</td>\n",
              "      <td>4228.329102</td>\n",
              "    </tr>\n",
              "    <tr>\n",
              "      <th>21</th>\n",
              "      <td>2022-01-12</td>\n",
              "      <td>4232.484863</td>\n",
              "    </tr>\n",
              "    <tr>\n",
              "      <th>22</th>\n",
              "      <td>2022-01-13</td>\n",
              "      <td>4218.204590</td>\n",
              "    </tr>\n",
              "    <tr>\n",
              "      <th>23</th>\n",
              "      <td>2022-01-14</td>\n",
              "      <td>4193.343262</td>\n",
              "    </tr>\n",
              "    <tr>\n",
              "      <th>24</th>\n",
              "      <td>2022-01-15</td>\n",
              "      <td>4175.733398</td>\n",
              "    </tr>\n",
              "    <tr>\n",
              "      <th>25</th>\n",
              "      <td>2022-01-16</td>\n",
              "      <td>4185.607910</td>\n",
              "    </tr>\n",
              "    <tr>\n",
              "      <th>26</th>\n",
              "      <td>2022-01-17</td>\n",
              "      <td>4204.025879</td>\n",
              "    </tr>\n",
              "    <tr>\n",
              "      <th>27</th>\n",
              "      <td>2022-01-18</td>\n",
              "      <td>4214.620605</td>\n",
              "    </tr>\n",
              "    <tr>\n",
              "      <th>28</th>\n",
              "      <td>2022-01-19</td>\n",
              "      <td>4212.775879</td>\n",
              "    </tr>\n",
              "    <tr>\n",
              "      <th>29</th>\n",
              "      <td>2022-01-20</td>\n",
              "      <td>4199.216797</td>\n",
              "    </tr>\n",
              "  </tbody>\n",
              "</table>\n",
              "</div>\n",
              "      <button class=\"colab-df-convert\" onclick=\"convertToInteractive('df-091b5ced-7cdc-425f-9a62-a2ca64c53fb2')\"\n",
              "              title=\"Convert this dataframe to an interactive table.\"\n",
              "              style=\"display:none;\">\n",
              "        \n",
              "  <svg xmlns=\"http://www.w3.org/2000/svg\" height=\"24px\"viewBox=\"0 0 24 24\"\n",
              "       width=\"24px\">\n",
              "    <path d=\"M0 0h24v24H0V0z\" fill=\"none\"/>\n",
              "    <path d=\"M18.56 5.44l.94 2.06.94-2.06 2.06-.94-2.06-.94-.94-2.06-.94 2.06-2.06.94zm-11 1L8.5 8.5l.94-2.06 2.06-.94-2.06-.94L8.5 2.5l-.94 2.06-2.06.94zm10 10l.94 2.06.94-2.06 2.06-.94-2.06-.94-.94-2.06-.94 2.06-2.06.94z\"/><path d=\"M17.41 7.96l-1.37-1.37c-.4-.4-.92-.59-1.43-.59-.52 0-1.04.2-1.43.59L10.3 9.45l-7.72 7.72c-.78.78-.78 2.05 0 2.83L4 21.41c.39.39.9.59 1.41.59.51 0 1.02-.2 1.41-.59l7.78-7.78 2.81-2.81c.8-.78.8-2.07 0-2.86zM5.41 20L4 18.59l7.72-7.72 1.47 1.35L5.41 20z\"/>\n",
              "  </svg>\n",
              "      </button>\n",
              "      \n",
              "  <style>\n",
              "    .colab-df-container {\n",
              "      display:flex;\n",
              "      flex-wrap:wrap;\n",
              "      gap: 12px;\n",
              "    }\n",
              "\n",
              "    .colab-df-convert {\n",
              "      background-color: #E8F0FE;\n",
              "      border: none;\n",
              "      border-radius: 50%;\n",
              "      cursor: pointer;\n",
              "      display: none;\n",
              "      fill: #1967D2;\n",
              "      height: 32px;\n",
              "      padding: 0 0 0 0;\n",
              "      width: 32px;\n",
              "    }\n",
              "\n",
              "    .colab-df-convert:hover {\n",
              "      background-color: #E2EBFA;\n",
              "      box-shadow: 0px 1px 2px rgba(60, 64, 67, 0.3), 0px 1px 3px 1px rgba(60, 64, 67, 0.15);\n",
              "      fill: #174EA6;\n",
              "    }\n",
              "\n",
              "    [theme=dark] .colab-df-convert {\n",
              "      background-color: #3B4455;\n",
              "      fill: #D2E3FC;\n",
              "    }\n",
              "\n",
              "    [theme=dark] .colab-df-convert:hover {\n",
              "      background-color: #434B5C;\n",
              "      box-shadow: 0px 1px 3px 1px rgba(0, 0, 0, 0.15);\n",
              "      filter: drop-shadow(0px 1px 2px rgba(0, 0, 0, 0.3));\n",
              "      fill: #FFFFFF;\n",
              "    }\n",
              "  </style>\n",
              "\n",
              "      <script>\n",
              "        const buttonEl =\n",
              "          document.querySelector('#df-091b5ced-7cdc-425f-9a62-a2ca64c53fb2 button.colab-df-convert');\n",
              "        buttonEl.style.display =\n",
              "          google.colab.kernel.accessAllowed ? 'block' : 'none';\n",
              "\n",
              "        async function convertToInteractive(key) {\n",
              "          const element = document.querySelector('#df-091b5ced-7cdc-425f-9a62-a2ca64c53fb2');\n",
              "          const dataTable =\n",
              "            await google.colab.kernel.invokeFunction('convertToInteractive',\n",
              "                                                     [key], {});\n",
              "          if (!dataTable) return;\n",
              "\n",
              "          const docLinkHtml = 'Like what you see? Visit the ' +\n",
              "            '<a target=\"_blank\" href=https://colab.research.google.com/notebooks/data_table.ipynb>data table notebook</a>'\n",
              "            + ' to learn more about interactive tables.';\n",
              "          element.innerHTML = '';\n",
              "          dataTable['output_type'] = 'display_data';\n",
              "          await google.colab.output.renderOutput(dataTable, element);\n",
              "          const docLink = document.createElement('div');\n",
              "          docLink.innerHTML = docLinkHtml;\n",
              "          element.appendChild(docLink);\n",
              "        }\n",
              "      </script>\n",
              "    </div>\n",
              "  </div>\n",
              "  "
            ]
          },
          "metadata": {},
          "execution_count": 46
        }
      ],
      "source": [
        "df_result"
      ]
    },
    {
      "cell_type": "code",
      "execution_count": null,
      "metadata": {
        "colab": {
          "base_uri": "https://localhost:8080/",
          "height": 539
        },
        "id": "f9mmkzairBr5",
        "outputId": "af7d3d26-90b5-4f11-ed0b-da4803784a89"
      },
      "outputs": [
        {
          "output_type": "execute_result",
          "data": {
            "text/plain": [
              "[<matplotlib.lines.Line2D at 0x7f5124411fa0>]"
            ]
          },
          "metadata": {},
          "execution_count": 47
        },
        {
          "output_type": "display_data",
          "data": {
            "text/plain": [
              "<Figure size 1152x576 with 1 Axes>"
            ],
            "image/png": "[encoded data removed]"
          },
          "metadata": {
            "needs_background": "light"
          }
        }
      ],
      "source": [
        "plt.figure(figsize=(16,8))\n",
        "plt.title('Gold price prediction')\n",
        "plt.xlabel('Date', fontsize=18)\n",
        "plt.ylabel('price' ,fontsize=18)\n",
        "plt.plot(df['price'][2000:])\n",
        "plt.plot(df_result.set_index('Date')[['Forecasted']],\"r--\")\n"
      ]
    },
    {
      "cell_type": "code",
      "execution_count": null,
      "metadata": {
        "id": "qkwwVBurzCap"
      },
      "outputs": [],
      "source": [
        "from sklearn.metrics import mean_squared_error\n",
        "from statsmodels.tools.eval_measures import rmse\n",
        "  "
      ]
    },
    {
      "cell_type": "code",
      "source": [
        "# Calculate mean squared error\n",
        "mean_squared_error(Ytest, pred)"
      ],
      "metadata": {
        "colab": {
          "base_uri": "https://localhost:8080/"
        },
        "id": "aRomqdpz6Cq5",
        "outputId": "230d3ea1-1d45-4da6-fca6-91c910ed9708"
      },
      "execution_count": null,
      "outputs": [
        {
          "output_type": "execute_result",
          "data": {
            "text/plain": [
              "5642.4253"
            ]
          },
          "metadata": {},
          "execution_count": 49
        }
      ]
    },
    {
      "cell_type": "code",
      "source": [
        "# Calculate root mean squared error\n",
        "rmse(Ytest, pred)"
      ],
      "metadata": {
        "colab": {
          "base_uri": "https://localhost:8080/"
        },
        "id": "QVVezG9n6Ju-",
        "outputId": "2984355b-770b-4cee-f71c-fb79266b398a"
      },
      "execution_count": null,
      "outputs": [
        {
          "output_type": "execute_result",
          "data": {
            "text/plain": [
              "array([75.11608], dtype=float32)"
            ]
          },
          "metadata": {},
          "execution_count": 50
        }
      ]
    },
    {
      "cell_type": "code",
      "source": [],
      "metadata": {
        "id": "TdAtLpw-6Rld"
      },
      "execution_count": null,
      "outputs": []
    }
  ],
  "metadata": {
    "colab": {
      "provenance": [],
      "collapsed_sections": [
        "UfdHEe6vrBrt",
        "950_zznirBry"
      ]
    },
    "kernelspec": {
      "display_name": "Python 3",
      "language": "python",
      "name": "python3"
    },
    "language_info": {
      "codemirror_mode": {
        "name": "ipython",
        "version": 3
      },
      "file_extension": ".py",
      "mimetype": "text/x-python",
      "name": "python",
      "nbconvert_exporter": "python",
      "pygments_lexer": "ipython3",
      "version": "3.6.4"
    }
  },
  "nbformat": 4,
  "nbformat_minor": 0
}